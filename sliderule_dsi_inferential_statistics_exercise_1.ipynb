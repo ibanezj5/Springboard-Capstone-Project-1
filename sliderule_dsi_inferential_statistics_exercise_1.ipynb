{
 "cells": [
  {
   "cell_type": "markdown",
   "metadata": {},
   "source": [
    "# What is the True Normal Human Body Temperature? \n",
    "\n",
    "#### Background\n",
    "\n",
    "The mean normal body temperature was held to be 37$^{\\circ}$C or 98.6$^{\\circ}$F for more than 120 years since it was first conceptualized and reported by Carl Wunderlich in a famous 1868 book. But, is this value statistically correct?"
   ]
  },
  {
   "cell_type": "markdown",
   "metadata": {},
   "source": [
    "<h3>Exercises</h3>\n",
    "\n",
    "<p>In this exercise, you will analyze a dataset of human body temperatures and employ the concepts of hypothesis testing, confidence intervals, and statistical significance.</p>\n",
    "\n",
    "<p>Answer the following questions <b>in this notebook below and submit to your Github account</b>.</p> \n",
    "\n",
    "<ol>\n",
    "<li>  Is the distribution of body temperatures normal? \n",
    "    <ul>\n",
    "    <li> Although this is not a requirement for the Central Limit Theorem to hold (read the introduction on Wikipedia's page about the CLT carefully: https://en.wikipedia.org/wiki/Central_limit_theorem), it gives us some peace of mind that the population may also be normally distributed if we assume that this sample is representative of the population.\n",
    "    <li> Think about the way you're going to check for the normality of the distribution. Graphical methods are usually used first, but there are also other ways: https://en.wikipedia.org/wiki/Normality_test\n",
    "    </ul>\n",
    "<li>  Is the sample size large? Are the observations independent?\n",
    "    <ul>\n",
    "    <li> Remember that this is a condition for the Central Limit Theorem, and hence the statistical tests we are using, to apply.\n",
    "    </ul>\n",
    "<li>  Is the true population mean really 98.6 degrees F?\n",
    "    <ul>\n",
    "    <li> First, try a bootstrap hypothesis test.\n",
    "    <li> Now, let's try frequentist statistical testing. Would you use a one-sample or two-sample test? Why?\n",
    "    <li> In this situation, is it appropriate to use the $t$ or $z$ statistic? \n",
    "    <li> Now try using the other test. How is the result be different? Why?\n",
    "    </ul>\n",
    "<li>  Draw a small sample of size 10 from the data and repeat both frequentist tests. \n",
    "    <ul>\n",
    "    <li> Which one is the correct one to use? \n",
    "    <li> What do you notice? What does this tell you about the difference in application of the $t$ and $z$ statistic?\n",
    "    </ul>\n",
    "<li>  At what temperature should we consider someone's temperature to be \"abnormal\"?\n",
    "    <ul>\n",
    "    <li> As in the previous example, try calculating everything using the boostrap approach, as well as the frequentist approach.\n",
    "    <li> Start by computing the margin of error and confidence interval. When calculating the confidence interval, keep in mind that you should use the appropriate formula for one draw, and not N draws.\n",
    "    </ul>\n",
    "<li>  Is there a significant difference between males and females in normal temperature?\n",
    "    <ul>\n",
    "    <li> What testing approach did you use and why?\n",
    "    <li> Write a story with your conclusion in the context of the original problem.\n",
    "    </ul>\n",
    "</ol>\n",
    "\n",
    "You can include written notes in notebook cells using Markdown: \n",
    "   - In the control panel at the top, choose Cell > Cell Type > Markdown\n",
    "   - Markdown syntax: http://nestacms.com/docs/creating-content/markdown-cheat-sheet\n",
    "\n",
    "#### Resources\n",
    "\n",
    "+ Information and data sources: http://www.amstat.org/publications/jse/datasets/normtemp.txt, http://www.amstat.org/publications/jse/jse_data_archive.htm\n",
    "+ Markdown syntax: http://nestacms.com/docs/creating-content/markdown-cheat-sheet\n",
    "\n",
    "****"
   ]
  },
  {
   "cell_type": "code",
   "execution_count": 1,
   "metadata": {},
   "outputs": [],
   "source": [
    "import pandas as pd\n",
    "import matplotlib.pyplot as plt\n",
    "import numpy as np\n",
    "from math import sqrt\n",
    "\n",
    "df = pd.read_csv('data/human_body_temperature.csv')"
   ]
  },
  {
   "cell_type": "code",
   "execution_count": 2,
   "metadata": {},
   "outputs": [
    {
     "data": {
      "image/png": "[encoded data removed]",
      "text/plain": [
       "<Figure size 432x288 with 1 Axes>"
      ]
     },
     "metadata": {
      "needs_background": "light"
     },
     "output_type": "display_data"
    },
    {
     "name": "stdout",
     "output_type": "stream",
     "text": [
      "There is 130 total data points.\n",
      "65 of which are male.\n",
      "65 of which are female.\n"
     ]
    }
   ],
   "source": [
    "# 1.) Is the distribution of body temperatures normal?: slight right skew, it is about normal\n",
    "# 2.) Is the sample size large? Are the observations independent?\n",
    "all_data = plt.hist(df['temperature'], bins=10, label='All data')\n",
    "\n",
    "\n",
    "#what about different genders\n",
    "males = df.loc[ df['gender'] == 'M' ]\n",
    "females = df.loc[ df['gender'] == 'F' ]\n",
    "females_only = plt.hist(females['temperature'], bins=10, label='Femles only')\n",
    "males_only = plt.hist(males['temperature'], bins=10, label='Males only')\n",
    "plt.ylabel('Frequency')\n",
    "plt.xlabel('Temperature')\n",
    "plt.legend()\n",
    "plt.show()\n",
    "print(\"There is \" + str(len(df)) + \" total data points.\")\n",
    "print(str(len(males)) + \" of which are male.\")\n",
    "print(str(len(females)) + \" of which are female.\")"
   ]
  },
  {
   "cell_type": "markdown",
   "metadata": {},
   "source": [
    "The data is slightly skewed to the right, but looks normal enough to suffice the central limit theorem. There are 130 total data points, half of of which is male and the other half is female, which satifies the sample size condition for the central limit theorem (at least 30 data points). Since the data doesn't show and strong bias, it is safe to assume that the data values are independent."
   ]
  },
  {
   "cell_type": "code",
   "execution_count": 3,
   "metadata": {},
   "outputs": [
    {
     "name": "stdout",
     "output_type": "stream",
     "text": [
      "Null Hypothesis: The mean body temperature of the population is 98.6 degrees F.\n",
      "Alternative Hypothesis: The mean body temperature is not 98.6 degrees F.\n",
      "The population body temperature mean is 98.24923076923078\n",
      "The mean body temperature for men is 98.1046153846154\n",
      "The mean body temperature for women is 98.39384615384613\n"
     ]
    }
   ],
   "source": [
    "# 3.) Is the true population mean really 98.6 degrees F?\n",
    "\n",
    "print(\"Null Hypothesis: The mean body temperature of the population is 98.6 degrees F.\")\n",
    "print(\"Alternative Hypothesis: The mean body temperature is not 98.6 degrees F.\")\n",
    "print(\"The population body temperature mean is \" + str(np.mean(df['temperature'])) )\n",
    "print(\"The mean body temperature for men is \" + str(np.mean(males['temperature'])) )\n",
    "print(\"The mean body temperature for women is \" + str(np.mean(females['temperature'])) )"
   ]
  },
  {
   "cell_type": "code",
   "execution_count": 4,
   "metadata": {},
   "outputs": [
    {
     "data": {
      "image/png": "[encoded data removed]",
      "text/plain": [
       "<Figure size 432x288 with 1 Axes>"
      ]
     },
     "metadata": {
      "needs_background": "light"
     },
     "output_type": "display_data"
    },
    {
     "name": "stdout",
     "output_type": "stream",
     "text": [
      "p-value = 0.0\n",
      "Z-Score = 62.49151559653875\n"
     ]
    }
   ],
   "source": [
    "# Bootstrap hypothesis test\n",
    "\n",
    "samples_statistics = np.empty(10000)\n",
    "\n",
    "for i in range(10000):\n",
    "    samples_statistics[i] = np.mean( np.random.choice( df['temperature'], size=len(df['temperature']) ) )\n",
    " \n",
    "plt.hist(samples_statistics, bins=10)\n",
    "plt.xlabel(\"Temperature\")\n",
    "plt.ylabel(\"Frequency\")\n",
    "plt.show()\n",
    "print(\"p-value = \" + str( (np.sum(samples_statistics >= 98.6))/(len(samples_statistics)) ) )\n",
    "\n",
    "# Frequentist statistical testing\n",
    "z_score = (98.6 - samples_statistics.mean())/(samples_statistics.std()/sqrt(130))\n",
    "print(\"Z-Score = \" + str(z_score))"
   ]
  },
  {
   "cell_type": "markdown",
   "metadata": {},
   "source": [
    "Bootstrap hypothesis test shows that the mean body temperature is indeed NOT 98.6 degrees F."
   ]
  },
  {
   "cell_type": "markdown",
   "metadata": {},
   "source": [
    "A z-score of 62.71 definately corresponds to a 0 probability. I chose to do a z-statistic test since the curve is normal."
   ]
  },
  {
   "cell_type": "code",
   "execution_count": 5,
   "metadata": {},
   "outputs": [
    {
     "data": {
      "image/png": "[encoded data removed]",
      "text/plain": [
       "<Figure size 432x288 with 1 Axes>"
      ]
     },
     "metadata": {
      "needs_background": "light"
     },
     "output_type": "display_data"
    },
    {
     "name": "stdout",
     "output_type": "stream",
     "text": [
      "p-value from bootstrapping = 0.0633\n",
      "Z-Score = 4.816076074440214\n",
      "p-value from a z-score of 4.816076074440214 is: 1e-05\n"
     ]
    }
   ],
   "source": [
    "# 4.) Draw a small sample of size 10 from the data and repeat both frequentist tests.\n",
    "\n",
    "samples_statistics_10 = np.empty(10000)\n",
    "\n",
    "for i in range(10000):\n",
    "    samples_statistics_10[i] = np.mean( np.random.choice( df['temperature'], size=10 ) )\n",
    " \n",
    "plt.hist(samples_statistics_10, bins=10)\n",
    "plt.xlabel(\"Temperature\")\n",
    "plt.ylabel(\"Frequency\")\n",
    "plt.show()\n",
    "print(\"p-value from bootstrapping = \" + str( (np.sum(samples_statistics_10 >= 98.6))/(len(samples_statistics_10)) ) )\n",
    "\n",
    "z_score_10 = (98.6 - samples_statistics_10.mean())/(samples_statistics_10.std()/sqrt(10))\n",
    "print(\"Z-Score = \" + str(z_score_10))\n",
    "print(\"p-value from a z-score of \" + str(z_score_10) + \" is: \" + str(0.00001))"
   ]
  },
  {
   "cell_type": "markdown",
   "metadata": {},
   "source": [
    "Whether I used a sample size of 10 or 130 I arrived at the same conclusion. I think a sample size of 10 is better bacause we see a better representation of all the values in the dataset. "
   ]
  },
  {
   "cell_type": "code",
   "execution_count": 6,
   "metadata": {},
   "outputs": [],
   "source": [
    "# 5.) At what temperature should we consider someone's temperature to be \"abnormal\"?\n",
    "\n",
    "#samples_statistics_10.max()  #99.1099\n",
    "#samples_statistics_10.min()  #97.3099999\n",
    "#samples_statistics_10.std()   #0.2306\n",
    "#samples_statistics_10.mean()   #98.253\n",
    "\n",
    "#Anything outside of a 90% confidence interval I would consider as abnormal\n",
    "confidence_interval = str(round(samples_statistics_10.mean()-2.055*samples_statistics_10.std(),2)) + '-' + str(round(samples_statistics_10.mean()+2.055*samples_statistics_10.std(),2))"
   ]
  },
  {
   "cell_type": "markdown",
   "metadata": {},
   "source": [
    "A body temperature outside of 90% of all randomized values would be considered as abnormal: 97.78-98.73"
   ]
  },
  {
   "cell_type": "code",
   "execution_count": 7,
   "metadata": {},
   "outputs": [
    {
     "data": {
      "image/png": "[encoded data removed]",
      "text/plain": [
       "<Figure size 432x288 with 1 Axes>"
      ]
     },
     "metadata": {
      "needs_background": "light"
     },
     "output_type": "display_data"
    }
   ],
   "source": [
    "# 5.) Is there a significant difference between males and females in normal temperature?\n",
    "\n",
    "# Male Data\n",
    "samples_statistics_10_male = np.empty(10000)\n",
    "\n",
    "for i in range(10000):\n",
    "    samples_statistics_10_male[i] = np.mean( np.random.choice( males['temperature'], size=10 ) )\n",
    " \n",
    "plt.hist(samples_statistics_10_male, bins=10)\n",
    "plt.xlabel(\"Temperature\")\n",
    "plt.ylabel(\"Frequency\")\n",
    "plt.show()\n",
    "\n",
    "confidence_interval = str(round(samples_statistics_10_male.mean()-2.055*samples_statistics_10_male.std(),2)) + '-' + str(round(samples_statistics_10_male.mean()+2.055*samples_statistics_10_male.std(),2))"
   ]
  },
  {
   "cell_type": "markdown",
   "metadata": {},
   "source": [
    "A body temperature outside of 90% of all randomized male temperature values would be considered as abnormal for men: 97.64-98.56"
   ]
  },
  {
   "cell_type": "code",
   "execution_count": 8,
   "metadata": {
    "scrolled": true
   },
   "outputs": [
    {
     "data": {
      "image/png": "[encoded data removed]",
      "text/plain": [
       "<Figure size 432x288 with 1 Axes>"
      ]
     },
     "metadata": {
      "needs_background": "light"
     },
     "output_type": "display_data"
    }
   ],
   "source": [
    "# Female Data\n",
    "samples_statistics_10_female = np.empty(10000)\n",
    "\n",
    "for i in range(10000):\n",
    "    samples_statistics_10_female[i] = np.mean( np.random.choice( females['temperature'], size=10 ) )\n",
    " \n",
    "plt.hist(samples_statistics_10_female, bins=10)\n",
    "plt.xlabel(\"Temperature\")\n",
    "plt.ylabel(\"Frequency\")\n",
    "plt.show()\n",
    "\n",
    "confidence_interval = str(round(samples_statistics_10_female.mean()-2.055*samples_statistics_10_female.std(),2)) + '-' + str(round(samples_statistics_10_female.mean()+2.055*samples_statistics_10_female.std(),2))"
   ]
  },
  {
   "cell_type": "markdown",
   "metadata": {},
   "source": [
    "A body temperature outside of 90% of all female temperature values would be considered as abnormal for women: 97.9-98.87"
   ]
  },
  {
   "cell_type": "markdown",
   "metadata": {},
   "source": [
    "On average we see a 0.3 degree difference of what is normal between men and women. To test the significance of this we could do a test on the differences of temperatures from a random sample and see how many times we find a difference of 0.3. If we see a difference of 0.3 occur many times (greater than 0.05 chance), then it would be logical to conclude that there is NOT a significant difference in average body temperature between men and women. If we see a difference of 0.3 not occur many times (less than 0.05 chance) then we could conclude that there IS a significant difference between the body temperatures of men and women."
   ]
  },
  {
   "cell_type": "code",
   "execution_count": 9,
   "metadata": {
    "scrolled": true
   },
   "outputs": [
    {
     "data": {
      "image/png": "[encoded data removed]",
      "text/plain": [
       "<Figure size 432x288 with 1 Axes>"
      ]
     },
     "metadata": {
      "needs_background": "light"
     },
     "output_type": "display_data"
    },
    {
     "name": "stdout",
     "output_type": "stream",
     "text": [
      "p-value from bootstrapping = 0.0207\n"
     ]
    }
   ],
   "source": [
    "# Difference of means analysis\n",
    "\n",
    "difference_of_means = np.empty(10000)\n",
    "\n",
    "for i in range(10000):\n",
    "    samples_statistics_random = np.random.choice( df['temperature'], size=len(df['temperature']) )\n",
    "    first_half = samples_statistics_random[:65]\n",
    "    second_half = samples_statistics_random[65:]\n",
    "    diff = first_half - second_half\n",
    "    difference_of_means[i] = np.mean(diff)\n",
    "    \n",
    " \n",
    "plt.hist(difference_of_means, bins=10)\n",
    "plt.xlabel(\"Temperature\")\n",
    "plt.ylabel(\"Frequency\")\n",
    "plt.show()\n",
    "print(\"p-value from bootstrapping = \" + str( (np.sum(difference_of_means >= 0.3))/(len(difference_of_means)) +  (np.sum(difference_of_means <= -0.3))/(len(difference_of_means))) )\n"
   ]
  },
  {
   "cell_type": "markdown",
   "metadata": {},
   "source": [
    "Null Hypothesis: There is a significant difference between the body temperatures of men and women (greater than 0.3).\n",
    "\n",
    "Alternative hypthesis: There is no significant difference between the temperatures of men and women.\n",
    "\n"
   ]
  },
  {
   "cell_type": "markdown",
   "metadata": {},
   "source": [
    "Because we see a p-value of 0.021, which is less than 0.05, we can conclude that a difference of average temperature greater than 0.3 is not common and there is indeed a difference in the average body temperature between men and women. We fail to reject the null hypothesis."
   ]
  },
  {
   "cell_type": "code",
   "execution_count": null,
   "metadata": {},
   "outputs": [],
   "source": []
  }
 ],
 "metadata": {
  "kernelspec": {
   "display_name": "Python 3",
   "language": "python",
   "name": "python3"
  },
  "language_info": {
   "codemirror_mode": {
    "name": "ipython",
    "version": 3
   },
   "file_extension": ".py",
   "mimetype": "text/x-python",
   "name": "python",
   "nbconvert_exporter": "python",
   "pygments_lexer": "ipython3",
   "version": "3.7.1"
  }
 },
 "nbformat": 4,
 "nbformat_minor": 1
}
