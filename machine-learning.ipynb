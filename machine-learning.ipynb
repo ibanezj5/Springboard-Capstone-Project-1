{
 "cells": [
  {
   "cell_type": "code",
   "execution_count": 1,
   "metadata": {},
   "outputs": [],
   "source": [
    "import pandas as pd\n",
    "import matplotlib.pyplot as plt\n",
    "import numpy as np\n",
    "from pylab import *\n",
    "import sklearn as sklearn\n",
    "from sklearn.model_selection import train_test_split\n",
    "from sklearn.model_selection import KFold\n",
    "from sklearn.metrics import confusion_matrix\n",
    "\n",
    "red_wine = pd.read_csv('https://query.data.world/s/rrj4d2f6sj2apz4x7sozpd6epmrsiy')\n",
    "white_wine = pd.read_csv('https://query.data.world/s/brho7trfnuy4iz2nxraqzsfwvgek5b')\n",
    "\n",
    "high_quality = white_wine.loc[ white_wine['quality'] > 6 ]   #ratings 9, 8, 7 only, 1060 rows\n",
    "mid_quality_initial = white_wine.loc[ white_wine['quality'] < 7 ]\n",
    "mid_quality = mid_quality_initial.loc[ mid_quality_initial['quality'] > 4 ]   #ratings 5, 6 only, 3655 rows\n",
    "low_quality = white_wine.loc[ white_wine['quality'] < 5 ]   #ratings 3, 4 only, 183 rows\n",
    "mid_and_low_quality = white_wine.loc[ white_wine['quality'] < 7 ]   #ratings 3, 4, 5, 6 only, 3838 rows"
   ]
  },
  {
   "cell_type": "code",
   "execution_count": 2,
   "metadata": {},
   "outputs": [
    {
     "name": "stdout",
     "output_type": "stream",
     "text": [
      "For a k value = 2 : \n",
      "[[  1   0   2   1   1   0   0]\n",
      " [  2   9   9   4   1   0   0]\n",
      " [  2  11 205  69   3   1   0]\n",
      " [  0  17 165 212  32   6   0]\n",
      " [  2   8  40  81  59   2   0]\n",
      " [  0   1   4  18   8   4   0]\n",
      " [  0   0   0   0   0   0   0]]\n",
      "Sum of the diagonals is: 490.\n",
      "For a k value = 3 : \n",
      "[[  1   0   2   1   1   0   0]\n",
      " [  2   3  11   7   2   0   0]\n",
      " [  1  12 156  97  21   4   0]\n",
      " [  0  11 137 221  53  10   0]\n",
      " [  0  10  40  69  66   7   0]\n",
      " [  0   1   4  17   6   7   0]\n",
      " [  0   0   0   0   0   0   0]]\n",
      "Sum of the diagonals is: 454.\n",
      "For a k value = 4 : \n",
      "[[  1   0   3   0   1   0   0]\n",
      " [  1   0  14   8   2   0   0]\n",
      " [  0   7 172  87  22   3   0]\n",
      " [  0   5 128 240  49  10   0]\n",
      " [  0   3  35  87  61   6   0]\n",
      " [  0   1   2  19   7   6   0]\n",
      " [  0   0   0   0   0   0   0]]\n",
      "Sum of the diagonals is: 480.\n",
      "For a k value = 5 : \n",
      "[[  0   0   4   1   0   0   0]\n",
      " [  1   2  13   7   2   0   0]\n",
      " [  0   6 149 116  19   1   0]\n",
      " [  0   5 112 261  50   4   0]\n",
      " [  0   3  44  89  51   5   0]\n",
      " [  0   0   1  21   9   4   0]\n",
      " [  0   0   0   0   0   0   0]]\n",
      "Sum of the diagonals is: 467.\n",
      "For a k value = 6 : \n",
      "[[  0   0   4   1   0   0   0]\n",
      " [  1   3  12   7   2   0   0]\n",
      " [  0   4 161 107  18   1   0]\n",
      " [  0   5 129 253  43   2   0]\n",
      " [  0   4  44  92  48   4   0]\n",
      " [  0   0   2  21   8   4   0]\n",
      " [  0   0   0   0   0   0   0]]\n",
      "Sum of the diagonals is: 469.\n",
      "For a k value = 7 : \n",
      "[[  0   0   3   2   0   0   0]\n",
      " [  0   5  10   8   2   0   0]\n",
      " [  0   3 140 124  21   3   0]\n",
      " [  0   4 105 272  49   2   0]\n",
      " [  0   2  34 102  49   5   0]\n",
      " [  0   0   3  24   6   2   0]\n",
      " [  0   0   0   0   0   0   0]]\n",
      "Sum of the diagonals is: 468.\n"
     ]
    }
   ],
   "source": [
    "#Knn classifier\n",
    "from sklearn.neighbors import KNeighborsClassifier\n",
    "\n",
    "\n",
    "X_initial = white_wine.drop(['quality'], axis=1)\n",
    "X = X_initial[ ['alcohol', 'density', 'total sulfur dioxide', 'free sulfur dioxide', 'volatile acidity', 'fixed acidity'] ]\n",
    "y = white_wine['quality']\n",
    "X_train, X_test, y_train, y_test = train_test_split(X, y, test_size=0.2, random_state=42)\n",
    "ks = [2,3,4,5,6,7]\n",
    "\n",
    "for k in ks:\n",
    "    knn = KNeighborsClassifier(n_neighbors=k)\n",
    "    knn.fit(X_train, y_train)\n",
    "    y_pred = knn.predict(X_test)\n",
    "    print(\"For a k value = \" + str(k) + \" : \")\n",
    "    print(confusion_matrix(y_test, y_pred, labels=[3, 4, 5, 6, 7, 8, 9]))\n",
    "    print(\"Sum of the diagonals is: \" + str(np.trace(confusion_matrix(y_test, y_pred, labels=[3, 4, 5, 6, 7, 8, 9]))) + \".\")"
   ]
  },
  {
   "cell_type": "code",
   "execution_count": 3,
   "metadata": {},
   "outputs": [
    {
     "name": "stdout",
     "output_type": "stream",
     "text": [
      "For a k value = 2 : \n",
      "[[  0   2   2   1   0   0   0]\n",
      " [  2   5   8   7   2   1   0]\n",
      " [  1  20 202  58   9   1   0]\n",
      " [  3  23 149 225  30   2   0]\n",
      " [  0  18  30  83  59   2   0]\n",
      " [  0   1   3  16   8   7   0]\n",
      " [  0   0   0   0   0   0   0]]\n",
      "Sum of the diagonals is: 498.\n",
      "For a k value = 3 : \n",
      "[[  0   0   2   3   0   0   0]\n",
      " [  2   3   9   5   5   1   0]\n",
      " [  1  15 154 103  17   1   0]\n",
      " [  1  22 106 243  55   5   0]\n",
      " [  0  15  28  66  79   4   0]\n",
      " [  0   0   1  15  11   8   0]\n",
      " [  0   0   0   0   0   0   0]]\n",
      "Sum of the diagonals is: 487.\n",
      "For a k value = 4 : \n",
      "[[  0   0   3   2   0   0   0]\n",
      " [  1   2  10   9   3   0   0]\n",
      " [  0   8 168  93  20   2   0]\n",
      " [  1  12 118 252  44   5   0]\n",
      " [  0   4  24  87  74   3   0]\n",
      " [  0   0   2  14  12   7   0]\n",
      " [  0   0   0   0   0   0   0]]\n",
      "Sum of the diagonals is: 503.\n",
      "For a k value = 5 : \n",
      "[[  0   0   3   2   0   0   0]\n",
      " [  1   1   7  11   5   0   0]\n",
      " [  0   7 172 100  12   0   0]\n",
      " [  0   5 118 264  40   5   0]\n",
      " [  0   3  24  96  67   2   0]\n",
      " [  0   0   1  19  12   3   0]\n",
      " [  0   0   0   0   0   0   0]]\n",
      "Sum of the diagonals is: 507.\n",
      "For a k value = 6 : \n",
      "[[  0   0   3   2   0   0   0]\n",
      " [  0   0   9  14   2   0   0]\n",
      " [  0   6 178  91  16   0   0]\n",
      " [  0   2 117 265  43   5   0]\n",
      " [  0   2  20 107  63   0   0]\n",
      " [  0   1   3  17  11   3   0]\n",
      " [  0   0   0   0   0   0   0]]\n",
      "Sum of the diagonals is: 509.\n",
      "For a k value = 7 : \n",
      "[[  0   0   3   2   0   0   0]\n",
      " [  0   0   8  15   2   0   0]\n",
      " [  0   3 170 101  17   0   0]\n",
      " [  0   1 104 281  42   4   0]\n",
      " [  0   1  23 108  59   1   0]\n",
      " [  0   1   3  17  10   4   0]\n",
      " [  0   0   0   0   0   0   0]]\n",
      "Sum of the diagonals is: 514.\n"
     ]
    }
   ],
   "source": [
    "#knn classification taking features that seem to be strong high quality indicators\n",
    "X = X_initial[ ['alcohol', 'density'] ]\n",
    "y = white_wine['quality']\n",
    "X_train, X_test, y_train, y_test = train_test_split(X, y, test_size=0.2, random_state=42)\n",
    "ks = [2,3,4,5,6,7]\n",
    "\n",
    "for k in ks:    \n",
    "    knn = KNeighborsClassifier(n_neighbors=k)\n",
    "    knn.fit(X_train, y_train)\n",
    "    y_pred = knn.predict(X_test)\n",
    "    print(\"For a k value = \" + str(k) + \" : \")\n",
    "    print(confusion_matrix(y_test, y_pred, labels=[3, 4, 5, 6, 7, 8, 9]))\n",
    "    print(\"Sum of the diagonals is: \" + str(np.trace(confusion_matrix(y_test, y_pred, labels=[3, 4, 5, 6, 7, 8, 9]))) + \".\")"
   ]
  },
  {
   "cell_type": "code",
   "execution_count": 4,
   "metadata": {},
   "outputs": [
    {
     "name": "stdout",
     "output_type": "stream",
     "text": [
      "For a k value = 2 : \n",
      "[[  1   0   2   2   0   0   0]\n",
      " [  1   8   8   8   0   0   0]\n",
      " [  3  16 186  72  12   2   0]\n",
      " [  2  24 164 219  21   2   0]\n",
      " [  0   3  79  69  41   0   0]\n",
      " [  0   0  12  11   8   4   0]\n",
      " [  0   0   0   0   0   0   0]]\n",
      "Sum of the diagonals is: 459.\n",
      "For a k value = 3 : \n",
      "[[  0   0   3   1   1   0   0]\n",
      " [  1   3  11   9   1   0   0]\n",
      " [  3  14 145 102  22   5   0]\n",
      " [  1  16 122 247  44   2   0]\n",
      " [  0   1  72  65  52   2   0]\n",
      " [  0   0  13  12   5   5   0]\n",
      " [  0   0   0   0   0   0   0]]\n",
      "Sum of the diagonals is: 452.\n",
      "For a k value = 4 : \n",
      "[[  1   0   2   1   1   0   0]\n",
      " [  1   2  14   7   1   0   0]\n",
      " [  0   8 149 108  25   1   0]\n",
      " [  1   7 127 260  33   4   0]\n",
      " [  0   2  69  73  46   2   0]\n",
      " [  0   0  12  14   4   5   0]\n",
      " [  0   0   0   0   0   0   0]]\n",
      "Sum of the diagonals is: 463.\n",
      "For a k value = 5 : \n",
      "[[  1   0   3   1   0   0   0]\n",
      " [  1   3  14   7   0   0   0]\n",
      " [  0   9 137 126  18   1   0]\n",
      " [  0   8 134 257  28   5   0]\n",
      " [  0   2  70  81  38   1   0]\n",
      " [  0   0  10  16   6   3   0]\n",
      " [  0   0   0   0   0   0   0]]\n",
      "Sum of the diagonals is: 439.\n",
      "For a k value = 6 : \n",
      "[[  1   0   1   2   1   0   0]\n",
      " [  1   3  12   9   0   0   0]\n",
      " [  0   8 138 120  24   1   0]\n",
      " [  0  10 127 264  28   3   0]\n",
      " [  0   3  72  81  35   1   0]\n",
      " [  0   1  12  14   5   3   0]\n",
      " [  0   0   0   0   0   0   0]]\n",
      "Sum of the diagonals is: 444.\n",
      "For a k value = 7 : \n",
      "[[  1   0   1   2   1   0   0]\n",
      " [  1   3  12   8   1   0   0]\n",
      " [  0   7 137 119  27   1   0]\n",
      " [  0   9 127 262  33   1   0]\n",
      " [  0   1  61  91  37   2   0]\n",
      " [  0   0  11  17   4   3   0]\n",
      " [  0   0   0   0   0   0   0]]\n",
      "Sum of the diagonals is: 443.\n"
     ]
    }
   ],
   "source": [
    "#knn classification taking features that seem to be strong low quality indicators\n",
    "X = X_initial[ ['free sulfur dioxide', 'volatile acidity', 'fixed acidity'] ]\n",
    "y = white_wine['quality']\n",
    "X_train, X_test, y_train, y_test = train_test_split(X, y, test_size=0.2, random_state=42)\n",
    "ks = [2,3,4,5,6,7]\n",
    "\n",
    "for k in ks:    \n",
    "    knn = KNeighborsClassifier(n_neighbors=k)\n",
    "    knn.fit(X_train, y_train)\n",
    "    y_pred = knn.predict(X_test)\n",
    "    print(\"For a k value = \" + str(k) + \" : \")\n",
    "    print(confusion_matrix(y_test, y_pred, labels=[3, 4, 5, 6, 7, 8, 9]))\n",
    "    print(\"Sum of the diagonals is: \" + str(np.trace(confusion_matrix(y_test, y_pred, labels=[3, 4, 5, 6, 7, 8, 9]))) + \".\")\n"
   ]
  },
  {
   "cell_type": "code",
   "execution_count": 5,
   "metadata": {},
   "outputs": [
    {
     "name": "stdout",
     "output_type": "stream",
     "text": [
      "For a k value = 2 : \n",
      "[[  0   0   3   1   1   0   0]\n",
      " [  0   2  11  11   1   0   0]\n",
      " [  0  27 173  75  15   1   0]\n",
      " [  3  24 171 199  28   7   0]\n",
      " [  3  10  42  86  47   4   0]\n",
      " [  0   1   7  15   9   3   0]\n",
      " [  0   0   0   0   0   0   0]]\n",
      "Sum of the diagonals is: 424.\n",
      "For a k value = 3 : \n",
      "[[  0   0   2   1   2   0   0]\n",
      " [  0   2   9  12   2   0   0]\n",
      " [  2  23 126 115  22   3   0]\n",
      " [  2  20 141 218  43   8   0]\n",
      " [  3  11  37  73  62   6   0]\n",
      " [  0   1   8  12  10   4   0]\n",
      " [  0   0   0   0   0   0   0]]\n",
      "Sum of the diagonals is: 412.\n",
      "For a k value = 4 : \n",
      "[[  0   0   2   2   1   0   0]\n",
      " [  0   1  10  10   3   1   0]\n",
      " [  0  13 147 109  18   4   0]\n",
      " [  0  12 142 230  43   5   0]\n",
      " [  0   6  35  94  52   5   0]\n",
      " [  0   1   7  12  11   4   0]\n",
      " [  0   0   0   0   0   0   0]]\n",
      "Sum of the diagonals is: 434.\n",
      "For a k value = 5 : \n",
      "[[  0   0   2   2   1   0   0]\n",
      " [  0   0  10  11   4   0   0]\n",
      " [  0   6 138 130  13   4   0]\n",
      " [  1   6 134 254  33   4   0]\n",
      " [  0   0  32 105  49   6   0]\n",
      " [  0   0   6  15  10   4   0]\n",
      " [  0   0   0   0   0   0   0]]\n",
      "Sum of the diagonals is: 445.\n",
      "For a k value = 6 : \n",
      "[[  0   0   4   1   0   0   0]\n",
      " [  0   1  10  12   2   0   0]\n",
      " [  0   3 137 138  11   2   0]\n",
      " [  0   5 146 242  35   4   0]\n",
      " [  0   0  33 103  52   4   0]\n",
      " [  0   0   7  18   8   2   0]\n",
      " [  0   0   0   0   0   0   0]]\n",
      "Sum of the diagonals is: 434.\n",
      "For a k value = 7 : \n",
      "[[  0   0   3   2   0   0   0]\n",
      " [  0   1  10  11   2   1   0]\n",
      " [  0   1 129 148  12   1   0]\n",
      " [  0   4 129 259  38   2   0]\n",
      " [  0   0  30 107  51   4   0]\n",
      " [  0   0   7  18   8   2   0]\n",
      " [  0   0   0   0   0   0   0]]\n",
      "Sum of the diagonals is: 442.\n"
     ]
    }
   ],
   "source": [
    "#knn classification taking features that seem to be strong all around quality indicators\n",
    "X = X_initial[ ['chlorides', 'residual sugar'] ]\n",
    "y = white_wine['quality']\n",
    "X_train, X_test, y_train, y_test = train_test_split(X, y, test_size=0.2, random_state=42)\n",
    "ks = [2,3,4,5,6,7]\n",
    "\n",
    "for k in ks:    \n",
    "    knn = KNeighborsClassifier(n_neighbors=k)\n",
    "    knn.fit(X_train, y_train)\n",
    "    y_pred = knn.predict(X_test)\n",
    "    print(\"For a k value = \" + str(k) + \" : \")\n",
    "    print(confusion_matrix(y_test, y_pred, labels=[3, 4, 5, 6, 7, 8, 9]))\n",
    "    print(\"Sum of the diagonals is: \" + str(np.trace(confusion_matrix(y_test, y_pred, labels=[3, 4, 5, 6, 7, 8, 9]))) + \".\")\n"
   ]
  },
  {
   "cell_type": "markdown",
   "metadata": {},
   "source": [
    "The best knn classification so far is a 7 neighbor classifier on the 'alcohol' and 'density' features."
   ]
  },
  {
   "cell_type": "code",
   "execution_count": 6,
   "metadata": {},
   "outputs": [
    {
     "name": "stdout",
     "output_type": "stream",
     "text": [
      "[[  0   0   2   2   0   1   0]\n",
      " [  0   0  14  11   0   0   0]\n",
      " [  0   0 138 151   2   0   0]\n",
      " [  1   0  91 320  20   0   0]\n",
      " [  0   0  18 138  36   0   0]\n",
      " [  0   0   2  21  12   0   0]\n",
      " [  0   0   0   0   0   0   0]]\n",
      "Sum of the diagonals is: 494.\n"
     ]
    },
    {
     "name": "stderr",
     "output_type": "stream",
     "text": [
      "C:\\Users\\ramka\\Anaconda3\\lib\\site-packages\\sklearn\\linear_model\\sag.py:334: ConvergenceWarning: The max_iter was reached which means the coef_ did not converge\n",
      "  \"the coef_ did not converge\", ConvergenceWarning)\n"
     ]
    },
    {
     "name": "stdout",
     "output_type": "stream",
     "text": [
      "[[  0   0   2   3   0   0   0]\n",
      " [  0   0   8  16   1   0   0]\n",
      " [  0   0  88 202   1   0   0]\n",
      " [  0   0  74 355   3   0   0]\n",
      " [  0   0  17 164  11   0   0]\n",
      " [  0   0   2  29   4   0   0]\n",
      " [  0   0   0   0   0   0   0]]\n",
      "Sum of the diagonals is: 454.\n"
     ]
    },
    {
     "name": "stderr",
     "output_type": "stream",
     "text": [
      "C:\\Users\\ramka\\Anaconda3\\lib\\site-packages\\sklearn\\linear_model\\sag.py:334: ConvergenceWarning: The max_iter was reached which means the coef_ did not converge\n",
      "  \"the coef_ did not converge\", ConvergenceWarning)\n"
     ]
    },
    {
     "name": "stdout",
     "output_type": "stream",
     "text": [
      "[[  0   0   2   3   0   0   0]\n",
      " [  0   0   7  17   1   0   0]\n",
      " [  0   0  84 205   2   0   0]\n",
      " [  0   0  75 354   3   0   0]\n",
      " [  0   0  17 170   5   0   0]\n",
      " [  0   0   2  32   1   0   0]\n",
      " [  0   0   0   0   0   0   0]]\n",
      "Sum of the diagonals is: 443.\n",
      "[[  1   0   2   2   0   0   0]\n",
      " [  0   0   7  18   0   0   0]\n",
      " [  0   0  88 202   1   0   0]\n",
      " [  0   0  75 356   1   0   0]\n",
      " [  0   0  18 170   4   0   0]\n",
      " [  0   0   2  33   0   0   0]\n",
      " [  0   0   0   0   0   0   0]]\n",
      "Sum of the diagonals is: 449.\n"
     ]
    },
    {
     "name": "stderr",
     "output_type": "stream",
     "text": [
      "C:\\Users\\ramka\\Anaconda3\\lib\\site-packages\\sklearn\\linear_model\\logistic.py:758: ConvergenceWarning: lbfgs failed to converge. Increase the number of iterations.\n",
      "  \"of iterations.\", ConvergenceWarning)\n"
     ]
    }
   ],
   "source": [
    "from sklearn import linear_model\n",
    "\n",
    "\n",
    "X_initial = white_wine.drop(['quality'], axis=1)\n",
    "X = X_initial[ ['alcohol', 'density', 'total sulfur dioxide', 'free sulfur dioxide', 'volatile acidity', 'fixed acidity'] ]\n",
    "y = white_wine['quality']\n",
    "X_train, X_test, y_train, y_test = train_test_split(X, y, test_size=0.2, random_state=42)\n",
    "\n",
    "solvers = ['newton-cg', 'sag', 'saga', 'lbfgs' ]\n",
    "for solver in solvers:\n",
    "    mulnom_clf = linear_model.LogisticRegression(multi_class='multinomial', solver=solver)\n",
    "    mulnom_clf.fit(X_train, y_train)\n",
    "    y_pred_mulnom = mulnom_clf.predict(X_test)\n",
    "    print(confusion_matrix(y_test, y_pred_mulnom, labels=[3, 4, 5, 6, 7, 8, 9]))\n",
    "    print(\"Sum of the diagonals is: \" + str(np.trace(confusion_matrix(y_test, y_pred_mulnom, labels=[3, 4, 5, 6, 7, 8, 9]))) + \".\")\n"
   ]
  },
  {
   "cell_type": "code",
   "execution_count": 7,
   "metadata": {},
   "outputs": [
    {
     "name": "stdout",
     "output_type": "stream",
     "text": [
      "[[  0   1   0   0   2   0   0]\n",
      " [  0  16   0   0  11   0   0]\n",
      " [  0   0   0   0   0   0   0]\n",
      " [  0   0   0   0   0   0   0]\n",
      " [  0   3   0   0 176   0   0]\n",
      " [  0   0   0   0  39   0   0]\n",
      " [  0   0   0   0   1   0   0]]\n",
      "Sum of the diagonals is: 192.\n",
      "[[  0   0   0   0   3   0   0]\n",
      " [  0   5   0   0  22   0   0]\n",
      " [  0   0   0   0   0   0   0]\n",
      " [  0   0   0   0   0   0   0]\n",
      " [  0   2   0   0 177   0   0]\n",
      " [  0   0   0   0  39   0   0]\n",
      " [  0   0   0   0   1   0   0]]\n",
      "Sum of the diagonals is: 182.\n"
     ]
    },
    {
     "name": "stderr",
     "output_type": "stream",
     "text": [
      "C:\\Users\\ramka\\Anaconda3\\lib\\site-packages\\sklearn\\linear_model\\sag.py:334: ConvergenceWarning: The max_iter was reached which means the coef_ did not converge\n",
      "  \"the coef_ did not converge\", ConvergenceWarning)\n",
      "C:\\Users\\ramka\\Anaconda3\\lib\\site-packages\\sklearn\\linear_model\\sag.py:334: ConvergenceWarning: The max_iter was reached which means the coef_ did not converge\n",
      "  \"the coef_ did not converge\", ConvergenceWarning)\n"
     ]
    },
    {
     "name": "stdout",
     "output_type": "stream",
     "text": [
      "[[  0   0   0   0   3   0   0]\n",
      " [  0   5   0   0  22   0   0]\n",
      " [  0   0   0   0   0   0   0]\n",
      " [  0   0   0   0   0   0   0]\n",
      " [  0   2   0   0 177   0   0]\n",
      " [  0   0   0   0  39   0   0]\n",
      " [  0   0   0   0   1   0   0]]\n",
      "Sum of the diagonals is: 182.\n",
      "[[  0   1   0   0   2   0   0]\n",
      " [  0   9   0   0  18   0   0]\n",
      " [  0   0   0   0   0   0   0]\n",
      " [  0   0   0   0   0   0   0]\n",
      " [  0   2   0   0 177   0   0]\n",
      " [  0   0   0   0  39   0   0]\n",
      " [  0   0   0   0   1   0   0]]\n",
      "Sum of the diagonals is: 186.\n"
     ]
    },
    {
     "name": "stderr",
     "output_type": "stream",
     "text": [
      "C:\\Users\\ramka\\Anaconda3\\lib\\site-packages\\sklearn\\linear_model\\logistic.py:758: ConvergenceWarning: lbfgs failed to converge. Increase the number of iterations.\n",
      "  \"of iterations.\", ConvergenceWarning)\n"
     ]
    }
   ],
   "source": [
    "from sklearn import linear_model\n",
    "\n",
    "high_and_low = high_quality.append(low_quality)\n",
    "X_initial = high_and_low.drop(['quality'], axis=1)\n",
    "X = X_initial[ ['alcohol', 'density', 'total sulfur dioxide', 'free sulfur dioxide', 'volatile acidity', 'fixed acidity'] ]\n",
    "y = high_and_low['quality']\n",
    "X_train, X_test, y_train, y_test = train_test_split(X, y, test_size=0.2, random_state=42)\n",
    "\n",
    "solvers = ['newton-cg', 'sag', 'saga', 'lbfgs' ]\n",
    "for solver in solvers:\n",
    "    mulnom_clf = linear_model.LogisticRegression(multi_class='multinomial', solver=solver)\n",
    "    mulnom_clf.fit(X_train, y_train)\n",
    "    y_pred_mulnom = mulnom_clf.predict(X_test)\n",
    "    print(confusion_matrix(y_test, y_pred_mulnom, labels=[3, 4, 5, 6, 7, 8, 9]))\n",
    "    print(\"Sum of the diagonals is: \" + str(np.trace(confusion_matrix(y_test, y_pred_mulnom, labels=[3, 4, 5, 6, 7, 8, 9]))) + \".\")\n"
   ]
  },
  {
   "cell_type": "code",
   "execution_count": null,
   "metadata": {},
   "outputs": [],
   "source": []
  },
  {
   "cell_type": "code",
   "execution_count": 10,
   "metadata": {},
   "outputs": [
    {
     "data": {
      "text/plain": [
       "'X_initial = white_wine.drop([\\'quality\\'], axis=1)\\nX = X_initial[ [\\'alcohol\\', \\'density\\', \\'total sulfur dioxide\\', \\'free sulfur dioxide\\', \\'volatile acidity\\', \\'fixed acidity\\'] ]\\ny = white_wine[\\'quality\\']\\nX_train, X_test, y_train, y_test = train_test_split(X, y, test_size=0.2, random_state=42)\\n\\nestimatators = [10, 20,  30, 40, 50, 60, 70, 80, 90, 100 ]\\nfor estimator in estimatators:\\n    grad_boost_clf = sklearn.ensemble.GradientBoostingClassifier(n_estimators=estimator)\\n    grad_boost_clf.fit(X_train, y_train)\\n    y_pred_grad_boost = grad_boost_clf.predict(X_test)\\n    print(\"For n_estimators = \" + str(estimator) + \".\")\\n    print(confusion_matrix(y_test, y_pred_grad_boost, labels=[3, 4, 5, 6, 7, 8, 9]))\\n    print(\"Sum of the diagonals is: \" + str(np.trace(confusion_matrix(y_test, y_pred_grad_boost, labels=[3, 4, 5, 6, 7, 8, 9]))) + \".\")\\n    print(\"---------------------------------------------------------------------------------------------------------\")\\n'"
      ]
     },
     "execution_count": 10,
     "metadata": {},
     "output_type": "execute_result"
    }
   ],
   "source": [
    "\"\"\"X_initial = white_wine.drop(['quality'], axis=1)\n",
    "X = X_initial[ ['alcohol', 'density', 'total sulfur dioxide', 'free sulfur dioxide', 'volatile acidity', 'fixed acidity'] ]\n",
    "y = white_wine['quality']\n",
    "X_train, X_test, y_train, y_test = train_test_split(X, y, test_size=0.2, random_state=42)\n",
    "\n",
    "estimatators = [10, 20,  30, 40, 50, 60, 70, 80, 90, 100 ]\n",
    "for estimator in estimatators:\n",
    "    grad_boost_clf = sklearn.ensemble.GradientBoostingClassifier(n_estimators=estimator)\n",
    "    grad_boost_clf.fit(X_train, y_train)\n",
    "    y_pred_grad_boost = grad_boost_clf.predict(X_test)\n",
    "    print(\"For n_estimators = \" + str(estimator) + \".\")\n",
    "    print(confusion_matrix(y_test, y_pred_grad_boost, labels=[3, 4, 5, 6, 7, 8, 9]))\n",
    "    print(\"Sum of the diagonals is: \" + str(np.trace(confusion_matrix(y_test, y_pred_grad_boost, labels=[3, 4, 5, 6, 7, 8, 9]))) + \".\")\n",
    "    print(\"---------------------------------------------------------------------------------------------------------\")\n",
    "\"\"\""
   ]
  },
  {
   "cell_type": "markdown",
   "metadata": {},
   "source": [
    "Random forrest has perfromed the best out of all the classifiers. I will continue to use random forrest and tweak it further."
   ]
  },
  {
   "cell_type": "code",
   "execution_count": 22,
   "metadata": {},
   "outputs": [],
   "source": [
    "from sklearn.ensemble import RandomForestClassifier\n",
    "\n",
    "\n",
    "X_initial = white_wine.drop(['quality'], axis=1)\n",
    "X = X_initial[ ['alcohol', 'density', 'total sulfur dioxide', 'free sulfur dioxide', 'volatile acidity', 'fixed acidity'] ]\n",
    "y = white_wine['quality']\n",
    "X_train, X_test, y_train, y_test = train_test_split(X, y, test_size=0.2, random_state=42)\n",
    "\n",
    "estimators = list(range(50, 3000, 100))\n",
    "points = {}\n",
    "for estimator in estimators:\n",
    "    ran_fores_clf = RandomForestClassifier(n_estimators=estimator)\n",
    "    ran_fores_clf.fit(X_train, y_train)\n",
    "    y_pred_ran_fores = ran_fores_clf.predict(X_test)\n",
    "    points[estimator] = ( np.trace(confusion_matrix(y_test, y_pred_ran_fores, labels=[3, 4, 5, 6, 7, 8, 9])) )/980"
   ]
  },
  {
   "cell_type": "markdown",
   "metadata": {},
   "source": [
    "It seems the more features I have the better the classifier."
   ]
  },
  {
   "cell_type": "code",
   "execution_count": 26,
   "metadata": {},
   "outputs": [
    {
     "data": {
      "image/png": "[encoded data removed]",
      "text/plain": [
       "<Figure size 432x288 with 1 Axes>"
      ]
     },
     "metadata": {
      "needs_background": "light"
     },
     "output_type": "display_data"
    }
   ],
   "source": [
    "plt.figure()\n",
    "plt.scatter(points.keys(), points.values())\n",
    "plt.show()"
   ]
  },
  {
   "cell_type": "code",
   "execution_count": 18,
   "metadata": {},
   "outputs": [],
   "source": [
    "from sklearn.ensemble import RandomForestClassifier\n",
    "\n",
    "\n",
    "X_initial = white_wine.drop(['quality'], axis=1)\n",
    "X = X_initial[ ['alcohol', 'density'] ]\n",
    "y = white_wine['quality']\n",
    "X_train, X_test, y_train, y_test = train_test_split(X, y, test_size=0.2, random_state=42)\n",
    "\n",
    "estimators = list(range(50, 3000, 100))\n",
    "points_high_indicators = {}\n",
    "for estimator in estimators:\n",
    "    ran_fores_clf = RandomForestClassifier(n_estimators=estimator)\n",
    "    ran_fores_clf.fit(X_train, y_train)\n",
    "    y_pred_ran_fores = ran_fores_clf.predict(X_test)\n",
    "    points_high_indicators[estimator] = ( np.trace(confusion_matrix(y_test, y_pred_ran_fores, labels=[3, 4, 5, 6, 7, 8, 9])) )/980"
   ]
  },
  {
   "cell_type": "code",
   "execution_count": 20,
   "metadata": {},
   "outputs": [
    {
     "data": {
      "image/png": "[encoded data removed]",
      "text/plain": [
       "<Figure size 432x288 with 1 Axes>"
      ]
     },
     "metadata": {
      "needs_background": "light"
     },
     "output_type": "display_data"
    }
   ],
   "source": [
    "plt.figure()\n",
    "plt.scatter(points_high_indicators.keys(), points_high_indicators.values())\n",
    "plt.show()"
   ]
  },
  {
   "cell_type": "code",
   "execution_count": 21,
   "metadata": {},
   "outputs": [],
   "source": [
    "from sklearn.ensemble import RandomForestClassifier\n",
    "\n",
    "\n",
    "X_initial = white_wine.drop(['quality'], axis=1)\n",
    "X = X_initial[ ['free sulfur dioxide', 'volatile acidity', 'fixed acidity'] ]\n",
    "y = white_wine['quality']\n",
    "X_train, X_test, y_train, y_test = train_test_split(X, y, test_size=0.2, random_state=42)\n",
    "\n",
    "estimators = list(range(50, 3000, 100))\n",
    "points_low_indicators = {}\n",
    "for estimator in estimators:\n",
    "    ran_fores_clf = RandomForestClassifier(n_estimators=estimator)\n",
    "    ran_fores_clf.fit(X_train, y_train)\n",
    "    y_pred_ran_fores = ran_fores_clf.predict(X_test)\n",
    "    points_low_indicators[estimator] = ( np.trace(confusion_matrix(y_test, y_pred_ran_fores, labels=[3, 4, 5, 6, 7, 8, 9])) )/980"
   ]
  },
  {
   "cell_type": "code",
   "execution_count": 24,
   "metadata": {},
   "outputs": [
    {
     "data": {
      "image/png": "[encoded data removed]",
      "text/plain": [
       "<Figure size 432x288 with 1 Axes>"
      ]
     },
     "metadata": {
      "needs_background": "light"
     },
     "output_type": "display_data"
    }
   ],
   "source": [
    "plt.figure()\n",
    "plt.scatter(points_low_indicators.keys(), points_low_indicators.values())\n",
    "plt.show()"
   ]
  },
  {
   "cell_type": "code",
   "execution_count": 27,
   "metadata": {},
   "outputs": [],
   "source": [
    "from sklearn.ensemble import RandomForestClassifier\n",
    "\n",
    "\n",
    "X_initial = white_wine.drop(['quality'], axis=1)\n",
    "X = X_initial[ ['chlorides', 'residual sugar'] ]\n",
    "y = white_wine['quality']\n",
    "X_train, X_test, y_train, y_test = train_test_split(X, y, test_size=0.2, random_state=42)\n",
    "\n",
    "estimators = list(range(50, 3000, 100))\n",
    "points_three_indicators = {}\n",
    "for estimator in estimators:\n",
    "    ran_fores_clf = RandomForestClassifier(n_estimators=estimator)\n",
    "    ran_fores_clf.fit(X_train, y_train)\n",
    "    y_pred_ran_fores = ran_fores_clf.predict(X_test)\n",
    "    points_three_indicators[estimator] = ( np.trace(confusion_matrix(y_test, y_pred_ran_fores, labels=[3, 4, 5, 6, 7, 8, 9])) )/980"
   ]
  },
  {
   "cell_type": "code",
   "execution_count": 28,
   "metadata": {},
   "outputs": [
    {
     "data": {
      "image/png": "[encoded data removed]",
      "text/plain": [
       "<Figure size 432x288 with 1 Axes>"
      ]
     },
     "metadata": {
      "needs_background": "light"
     },
     "output_type": "display_data"
    }
   ],
   "source": [
    "plt.figure()\n",
    "plt.scatter(points_three_indicators.keys(), points_three_indicators.values())\n",
    "plt.show()"
   ]
  },
  {
   "cell_type": "code",
   "execution_count": 29,
   "metadata": {},
   "outputs": [],
   "source": [
    "from sklearn.ensemble import RandomForestClassifier\n",
    "\n",
    "\n",
    "X_initial = white_wine.drop(['quality'], axis=1)\n",
    "X = X_initial[ ['alcohol', 'density', 'total sulfur dioxide', 'free sulfur dioxide', 'volatile acidity', 'fixed acidity', 'chlorides', 'residual sugar'] ]\n",
    "y = white_wine['quality']\n",
    "X_train, X_test, y_train, y_test = train_test_split(X, y, test_size=0.2, random_state=42)\n",
    "\n",
    "estimators = list(range(50, 3000, 100))\n",
    "points_all = {}\n",
    "for estimator in estimators:\n",
    "    ran_fores_clf = RandomForestClassifier(n_estimators=estimator)\n",
    "    ran_fores_clf.fit(X_train, y_train)\n",
    "    y_pred_ran_fores = ran_fores_clf.predict(X_test)\n",
    "    points_all[estimator] = ( np.trace(confusion_matrix(y_test, y_pred_ran_fores, labels=[3, 4, 5, 6, 7, 8, 9])) )/980"
   ]
  },
  {
   "cell_type": "code",
   "execution_count": 30,
   "metadata": {
    "scrolled": true
   },
   "outputs": [
    {
     "data": {
      "image/png": "[encoded data removed]",
      "text/plain": [
       "<Figure size 432x288 with 1 Axes>"
      ]
     },
     "metadata": {
      "needs_background": "light"
     },
     "output_type": "display_data"
    }
   ],
   "source": [
    "plt.figure()\n",
    "plt.scatter(points_all.keys(), points_all.values())\n",
    "plt.show()"
   ]
  },
  {
   "cell_type": "markdown",
   "metadata": {},
   "source": [
    "1150 estimators seems to be the optimal estimator amount."
   ]
  },
  {
   "cell_type": "code",
   "execution_count": 37,
   "metadata": {},
   "outputs": [
    {
     "data": {
      "text/plain": [
       "0.6918367346938775"
      ]
     },
     "execution_count": 37,
     "metadata": {},
     "output_type": "execute_result"
    }
   ],
   "source": [
    "points_all[1150]"
   ]
  },
  {
   "cell_type": "code",
   "execution_count": null,
   "metadata": {},
   "outputs": [],
   "source": []
  },
  {
   "cell_type": "code",
   "execution_count": 44,
   "metadata": {},
   "outputs": [
    {
     "name": "stdout",
     "output_type": "stream",
     "text": [
      "For max_feature parameter 'sqrt' we have score 0.6846938775510204\n",
      "For max_feature parameter 'log2' we have score 0.6795918367346939\n",
      "For max_feature parameter 'auto' we have score 0.6857142857142857\n"
     ]
    }
   ],
   "source": [
    "#max_feature parameter tuning\n",
    "from sklearn.ensemble import RandomForestClassifier\n",
    "\n",
    "X_initial = white_wine.drop(['quality'], axis=1)\n",
    "X = X_initial[ ['alcohol', 'density', 'total sulfur dioxide', 'free sulfur dioxide', 'volatile acidity', 'fixed acidity', 'chlorides', 'residual sugar'] ]\n",
    "y = white_wine['quality']\n",
    "X_train, X_test, y_train, y_test = train_test_split(X, y, test_size=0.2, random_state=42)\n",
    "\n",
    "parameters = ['sqrt', 'log2', 'auto']\n",
    "for param in parameters:\n",
    "    ran_fores_clf = RandomForestClassifier(n_estimators=1150, max_features=param)\n",
    "    ran_fores_clf.fit(X_train, y_train)\n",
    "    y_pred_ran_fores = ran_fores_clf.predict(X_test)\n",
    "    print( \"For max_feature parameter '\" + str(param) + \"' we have score \" + str(np.trace(confusion_matrix(y_test, y_pred_ran_fores, labels=[3, 4, 5, 6, 7, 8, 9]))/980) )\n",
    "    \n",
    "    "
   ]
  },
  {
   "cell_type": "markdown",
   "metadata": {},
   "source": [
    "The best max_feature parameter is 'auto'."
   ]
  },
  {
   "cell_type": "code",
   "execution_count": 45,
   "metadata": {},
   "outputs": [
    {
     "name": "stdout",
     "output_type": "stream",
     "text": [
      "For criterion parameter 'gini' we have score 0.6816326530612244\n",
      "For criterion parameter 'entropy' we have score 0.6887755102040817\n"
     ]
    }
   ],
   "source": [
    "#criterion parameter tuning\n",
    "\n",
    "from sklearn.ensemble import RandomForestClassifier\n",
    "\n",
    "X_initial = white_wine.drop(['quality'], axis=1)\n",
    "X = X_initial[ ['alcohol', 'density', 'total sulfur dioxide', 'free sulfur dioxide', 'volatile acidity', 'fixed acidity', 'chlorides', 'residual sugar'] ]\n",
    "y = white_wine['quality']\n",
    "X_train, X_test, y_train, y_test = train_test_split(X, y, test_size=0.2, random_state=42)\n",
    "\n",
    "parameters = ['gini', 'entropy']\n",
    "for param in parameters:\n",
    "    ran_fores_clf = RandomForestClassifier(n_estimators=1150, max_features='auto', criterion=param )\n",
    "    ran_fores_clf.fit(X_train, y_train)\n",
    "    y_pred_ran_fores = ran_fores_clf.predict(X_test)\n",
    "    print( \"For criterion parameter '\" + str(param) + \"' we have score \" + str(np.trace(confusion_matrix(y_test, y_pred_ran_fores, labels=[3, 4, 5, 6, 7, 8, 9]))/980) )\n"
   ]
  },
  {
   "cell_type": "markdown",
   "metadata": {},
   "source": [
    "The best criterion parameter is 'entropy'."
   ]
  },
  {
   "cell_type": "code",
   "execution_count": 46,
   "metadata": {},
   "outputs": [
    {
     "name": "stdout",
     "output_type": "stream",
     "text": [
      "For bootstrap parameter 'True' we have score 0.6877551020408164\n",
      "For bootstrap parameter 'False' we have score 0.6785714285714286\n"
     ]
    }
   ],
   "source": [
    "#bootstrap  parameter tuning\n",
    "\n",
    "from sklearn.ensemble import RandomForestClassifier\n",
    "\n",
    "X_initial = white_wine.drop(['quality'], axis=1)\n",
    "X = X_initial[ ['alcohol', 'density', 'total sulfur dioxide', 'free sulfur dioxide', 'volatile acidity', 'fixed acidity', 'chlorides', 'residual sugar'] ]\n",
    "y = white_wine['quality']\n",
    "X_train, X_test, y_train, y_test = train_test_split(X, y, test_size=0.2, random_state=42)\n",
    "\n",
    "parameters = [True, False]\n",
    "for param in parameters:\n",
    "    ran_fores_clf = RandomForestClassifier(n_estimators=1150, max_features='auto', criterion='entropy', bootstrap=param )\n",
    "    ran_fores_clf.fit(X_train, y_train)\n",
    "    y_pred_ran_fores = ran_fores_clf.predict(X_test)\n",
    "    print( \"For bootstrap parameter '\" + str(param) + \"' we have score \" + str(np.trace(confusion_matrix(y_test, y_pred_ran_fores, labels=[3, 4, 5, 6, 7, 8, 9]))/980) )\n"
   ]
  },
  {
   "cell_type": "markdown",
   "metadata": {},
   "source": [
    "The best bootstrap parameter is 'True'."
   ]
  },
  {
   "cell_type": "code",
   "execution_count": 51,
   "metadata": {},
   "outputs": [
    {
     "name": "stdout",
     "output_type": "stream",
     "text": [
      "My best classifier yeilds an accuracy of 0.6846938775510204\n"
     ]
    }
   ],
   "source": [
    "from sklearn.ensemble import RandomForestClassifier\n",
    "\n",
    "X_initial = white_wine.drop(['quality'], axis=1)\n",
    "X = X_initial[ ['alcohol', 'density', 'total sulfur dioxide', 'free sulfur dioxide', 'volatile acidity', 'fixed acidity', 'chlorides', 'residual sugar'] ]\n",
    "y = white_wine['quality']\n",
    "X_train, X_test, y_train, y_test = train_test_split(X, y, test_size=0.2, random_state=42)\n",
    "\n",
    "ran_fores_clf = RandomForestClassifier(n_estimators=1150, max_features='auto', criterion='entropy', bootstrap=True )\n",
    "ran_fores_clf.fit(X_train, y_train)\n",
    "y_pred_ran_fores = ran_fores_clf.predict(X_test)\n",
    "print( \"My best classifier yeilds an accuracy of \" + str(np.trace(confusion_matrix(y_test, y_pred_ran_fores, labels=[3, 4, 5, 6, 7, 8, 9]))/980) )\n"
   ]
  },
  {
   "cell_type": "code",
   "execution_count": null,
   "metadata": {},
   "outputs": [],
   "source": []
  }
 ],
 "metadata": {
  "kernelspec": {
   "display_name": "Python 3",
   "language": "python",
   "name": "python3"
  },
  "language_info": {
   "codemirror_mode": {
    "name": "ipython",
    "version": 3
   },
   "file_extension": ".py",
   "mimetype": "text/x-python",
   "name": "python",
   "nbconvert_exporter": "python",
   "pygments_lexer": "ipython3",
   "version": "3.7.1"
  }
 },
 "nbformat": 4,
 "nbformat_minor": 2
}
