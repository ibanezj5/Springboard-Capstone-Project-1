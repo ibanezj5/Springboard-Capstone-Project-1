{
 "cells": [
  {
   "cell_type": "code",
   "execution_count": 1,
   "metadata": {},
   "outputs": [],
   "source": [
    "import pandas as pd\n",
    "import matplotlib.pyplot as plt\n",
    "import numpy as np\n",
    "from pylab import *\n",
    "import sklearn as sklearn\n",
    "from sklearn.model_selection import train_test_split\n",
    "from sklearn.model_selection import KFold\n",
    "from sklearn.metrics import confusion_matrix"
   ]
  },
  {
   "cell_type": "code",
   "execution_count": 2,
   "metadata": {},
   "outputs": [
    {
     "name": "stderr",
     "output_type": "stream",
     "text": [
      "distribution-generator.ipynb:14: SettingWithCopyWarning: \n",
      "A value is trying to be set on a copy of a slice from a DataFrame.\n",
      "Try using .loc[row_indexer,col_indexer] = value instead\n",
      "\n",
      "See the caveats in the documentation: http://pandas.pydata.org/pandas-docs/stable/indexing.html#indexing-view-versus-copy\n",
      "  \"C:\\\\Users\\\\ramka\\\\Anaconda3\\\\lib\\\\site-packages\\\\ipykernel_launcher.py:14: SettingWithCopyWarning: \\n\",\n",
      "distribution-generator.ipynb:15: SettingWithCopyWarning: \n",
      "A value is trying to be set on a copy of a slice from a DataFrame.\n",
      "Try using .loc[row_indexer,col_indexer] = value instead\n",
      "\n",
      "See the caveats in the documentation: http://pandas.pydata.org/pandas-docs/stable/indexing.html#indexing-view-versus-copy\n",
      "  \"A value is trying to be set on a copy of a slice from a DataFrame.\\n\",\n",
      "distribution-generator.ipynb:16: SettingWithCopyWarning: \n",
      "A value is trying to be set on a copy of a slice from a DataFrame.\n",
      "Try using .loc[row_indexer,col_indexer] = value instead\n",
      "\n",
      "See the caveats in the documentation: http://pandas.pydata.org/pandas-docs/stable/indexing.html#indexing-view-versus-copy\n",
      "  \"Try using .loc[row_indexer,col_indexer] = value instead\\n\",\n",
      "distribution-generator.ipynb:26: SettingWithCopyWarning: \n",
      "A value is trying to be set on a copy of a slice from a DataFrame.\n",
      "Try using .loc[row_indexer,col_indexer] = value instead\n",
      "\n",
      "See the caveats in the documentation: http://pandas.pydata.org/pandas-docs/stable/indexing.html#indexing-view-versus-copy\n",
      "  \"C:\\\\Users\\\\ramka\\\\Anaconda3\\\\lib\\\\site-packages\\\\ipykernel_launcher.py:16: SettingWithCopyWarning: \\n\",\n"
     ]
    }
   ],
   "source": [
    "%run feature-probability-generation.ipynb "
   ]
  },
  {
   "cell_type": "code",
   "execution_count": 46,
   "metadata": {},
   "outputs": [],
   "source": [
    "X = white_wine_new.drop(['quality'], axis=1)\n",
    "y = white_wine_new['quality']\n",
    "X_train, X_test, y_train, y_test = train_test_split(X, y, test_size=0.3, random_state=42)"
   ]
  },
  {
   "cell_type": "code",
   "execution_count": 4,
   "metadata": {},
   "outputs": [
    {
     "data": {
      "text/html": [
       "<div>\n",
       "<style scoped>\n",
       "    .dataframe tbody tr th:only-of-type {\n",
       "        vertical-align: middle;\n",
       "    }\n",
       "\n",
       "    .dataframe tbody tr th {\n",
       "        vertical-align: top;\n",
       "    }\n",
       "\n",
       "    .dataframe thead th {\n",
       "        text-align: right;\n",
       "    }\n",
       "</style>\n",
       "<table border=\"1\" class=\"dataframe\">\n",
       "  <thead>\n",
       "    <tr style=\"text-align: right;\">\n",
       "      <th></th>\n",
       "      <th>fixed acidity</th>\n",
       "      <th>volatile acidity</th>\n",
       "      <th>citric acid</th>\n",
       "      <th>residual sugar</th>\n",
       "      <th>chlorides</th>\n",
       "      <th>free sulfur dioxide</th>\n",
       "      <th>total sulfur dioxide</th>\n",
       "      <th>density</th>\n",
       "      <th>pH</th>\n",
       "      <th>sulphates</th>\n",
       "      <th>...</th>\n",
       "      <th>density_prob_low</th>\n",
       "      <th>total_sulfur_dioxide_prob_low</th>\n",
       "      <th>free_sulfur_dioxide_prob_low</th>\n",
       "      <th>chlorides_prob_low</th>\n",
       "      <th>residual_sugar_prob_low</th>\n",
       "      <th>citric_acid_prob_low</th>\n",
       "      <th>volatile_acidity_prob_low</th>\n",
       "      <th>fixed_acidity_prob_low</th>\n",
       "      <th>sulphates_prob_low</th>\n",
       "      <th>pH_prob_low</th>\n",
       "    </tr>\n",
       "  </thead>\n",
       "  <tbody>\n",
       "    <tr>\n",
       "      <th>3343</th>\n",
       "      <td>6.9</td>\n",
       "      <td>0.36</td>\n",
       "      <td>0.28</td>\n",
       "      <td>13.55</td>\n",
       "      <td>0.048</td>\n",
       "      <td>51.0</td>\n",
       "      <td>189.0</td>\n",
       "      <td>0.99782</td>\n",
       "      <td>3.00</td>\n",
       "      <td>0.60</td>\n",
       "      <td>...</td>\n",
       "      <td>0.0039</td>\n",
       "      <td>0.0257</td>\n",
       "      <td>0.0009</td>\n",
       "      <td>0.4274</td>\n",
       "      <td>0.0000</td>\n",
       "      <td>0.3060</td>\n",
       "      <td>0.2849</td>\n",
       "      <td>0.3002</td>\n",
       "      <td>0.0018</td>\n",
       "      <td>0.0002</td>\n",
       "    </tr>\n",
       "    <tr>\n",
       "      <th>736</th>\n",
       "      <td>6.6</td>\n",
       "      <td>0.25</td>\n",
       "      <td>0.30</td>\n",
       "      <td>14.40</td>\n",
       "      <td>0.052</td>\n",
       "      <td>40.0</td>\n",
       "      <td>183.0</td>\n",
       "      <td>0.99800</td>\n",
       "      <td>3.02</td>\n",
       "      <td>0.50</td>\n",
       "      <td>...</td>\n",
       "      <td>0.0032</td>\n",
       "      <td>0.0468</td>\n",
       "      <td>0.0076</td>\n",
       "      <td>0.3227</td>\n",
       "      <td>0.0000</td>\n",
       "      <td>0.3081</td>\n",
       "      <td>0.0058</td>\n",
       "      <td>0.1423</td>\n",
       "      <td>0.2861</td>\n",
       "      <td>0.0008</td>\n",
       "    </tr>\n",
       "    <tr>\n",
       "      <th>1406</th>\n",
       "      <td>8.2</td>\n",
       "      <td>0.22</td>\n",
       "      <td>0.36</td>\n",
       "      <td>6.80</td>\n",
       "      <td>0.034</td>\n",
       "      <td>12.0</td>\n",
       "      <td>90.0</td>\n",
       "      <td>0.99440</td>\n",
       "      <td>3.01</td>\n",
       "      <td>0.38</td>\n",
       "      <td>...</td>\n",
       "      <td>0.3194</td>\n",
       "      <td>0.0998</td>\n",
       "      <td>0.2110</td>\n",
       "      <td>0.0107</td>\n",
       "      <td>0.0545</td>\n",
       "      <td>0.1334</td>\n",
       "      <td>0.0003</td>\n",
       "      <td>0.0078</td>\n",
       "      <td>0.0051</td>\n",
       "      <td>0.0005</td>\n",
       "    </tr>\n",
       "    <tr>\n",
       "      <th>1719</th>\n",
       "      <td>5.8</td>\n",
       "      <td>0.23</td>\n",
       "      <td>0.27</td>\n",
       "      <td>1.80</td>\n",
       "      <td>0.043</td>\n",
       "      <td>24.0</td>\n",
       "      <td>69.0</td>\n",
       "      <td>0.99330</td>\n",
       "      <td>3.38</td>\n",
       "      <td>0.31</td>\n",
       "      <td>...</td>\n",
       "      <td>0.2068</td>\n",
       "      <td>0.0106</td>\n",
       "      <td>0.2416</td>\n",
       "      <td>0.3298</td>\n",
       "      <td>0.3184</td>\n",
       "      <td>0.2830</td>\n",
       "      <td>0.0009</td>\n",
       "      <td>0.0005</td>\n",
       "      <td>0.0001</td>\n",
       "      <td>0.0009</td>\n",
       "    </tr>\n",
       "    <tr>\n",
       "      <th>2163</th>\n",
       "      <td>8.5</td>\n",
       "      <td>0.25</td>\n",
       "      <td>0.27</td>\n",
       "      <td>4.70</td>\n",
       "      <td>0.031</td>\n",
       "      <td>31.0</td>\n",
       "      <td>92.0</td>\n",
       "      <td>0.99220</td>\n",
       "      <td>3.01</td>\n",
       "      <td>0.33</td>\n",
       "      <td>...</td>\n",
       "      <td>0.0240</td>\n",
       "      <td>0.1212</td>\n",
       "      <td>0.0904</td>\n",
       "      <td>0.0014</td>\n",
       "      <td>0.1622</td>\n",
       "      <td>0.2830</td>\n",
       "      <td>0.0058</td>\n",
       "      <td>0.0012</td>\n",
       "      <td>0.0001</td>\n",
       "      <td>0.0005</td>\n",
       "    </tr>\n",
       "  </tbody>\n",
       "</table>\n",
       "<p>5 rows × 44 columns</p>\n",
       "</div>"
      ],
      "text/plain": [
       "      fixed acidity  volatile acidity  citric acid  residual sugar  chlorides  \\\n",
       "3343            6.9              0.36         0.28           13.55      0.048   \n",
       "736             6.6              0.25         0.30           14.40      0.052   \n",
       "1406            8.2              0.22         0.36            6.80      0.034   \n",
       "1719            5.8              0.23         0.27            1.80      0.043   \n",
       "2163            8.5              0.25         0.27            4.70      0.031   \n",
       "\n",
       "      free sulfur dioxide  total sulfur dioxide  density    pH  sulphates  \\\n",
       "3343                 51.0                 189.0  0.99782  3.00       0.60   \n",
       "736                  40.0                 183.0  0.99800  3.02       0.50   \n",
       "1406                 12.0                  90.0  0.99440  3.01       0.38   \n",
       "1719                 24.0                  69.0  0.99330  3.38       0.31   \n",
       "2163                 31.0                  92.0  0.99220  3.01       0.33   \n",
       "\n",
       "         ...       density_prob_low  total_sulfur_dioxide_prob_low  \\\n",
       "3343     ...                 0.0039                         0.0257   \n",
       "736      ...                 0.0032                         0.0468   \n",
       "1406     ...                 0.3194                         0.0998   \n",
       "1719     ...                 0.2068                         0.0106   \n",
       "2163     ...                 0.0240                         0.1212   \n",
       "\n",
       "      free_sulfur_dioxide_prob_low  chlorides_prob_low  \\\n",
       "3343                        0.0009              0.4274   \n",
       "736                         0.0076              0.3227   \n",
       "1406                        0.2110              0.0107   \n",
       "1719                        0.2416              0.3298   \n",
       "2163                        0.0904              0.0014   \n",
       "\n",
       "      residual_sugar_prob_low  citric_acid_prob_low  \\\n",
       "3343                   0.0000                0.3060   \n",
       "736                    0.0000                0.3081   \n",
       "1406                   0.0545                0.1334   \n",
       "1719                   0.3184                0.2830   \n",
       "2163                   0.1622                0.2830   \n",
       "\n",
       "      volatile_acidity_prob_low  fixed_acidity_prob_low  sulphates_prob_low  \\\n",
       "3343                     0.2849                  0.3002              0.0018   \n",
       "736                      0.0058                  0.1423              0.2861   \n",
       "1406                     0.0003                  0.0078              0.0051   \n",
       "1719                     0.0009                  0.0005              0.0001   \n",
       "2163                     0.0058                  0.0012              0.0001   \n",
       "\n",
       "      pH_prob_low  \n",
       "3343       0.0002  \n",
       "736        0.0008  \n",
       "1406       0.0005  \n",
       "1719       0.0009  \n",
       "2163       0.0005  \n",
       "\n",
       "[5 rows x 44 columns]"
      ]
     },
     "execution_count": 4,
     "metadata": {},
     "output_type": "execute_result"
    }
   ],
   "source": [
    "X_train.head()"
   ]
  },
  {
   "cell_type": "code",
   "execution_count": 5,
   "metadata": {},
   "outputs": [
    {
     "name": "stdout",
     "output_type": "stream",
     "text": [
      "For a k value = 2 : \n",
      "[[ 16  44   2]\n",
      " [ 61 954  56]\n",
      " [  2 239  96]]\n",
      "accuracy score is: 0.7251700680272108.\n",
      "For a k value = 3 : \n",
      "[[  7  51   4]\n",
      " [ 23 931 117]\n",
      " [  6 180 151]]\n",
      "accuracy score is: 0.7408163265306122.\n",
      "For a k value = 4 : \n",
      "[[  8  51   3]\n",
      " [ 16 989  66]\n",
      " [  2 227 108]]\n",
      "accuracy score is: 0.7517006802721088.\n",
      "For a k value = 5 : \n",
      "[[  5  52   5]\n",
      " [ 10 962  99]\n",
      " [  1 206 130]]\n",
      "accuracy score is: 0.7462585034013606.\n",
      "For a k value = 6 : \n",
      "[[   4   56    2]\n",
      " [  13 1004   54]\n",
      " [   0  255   82]]\n",
      "accuracy score is: 0.7414965986394558.\n",
      "For a k value = 7 : \n",
      "[[  2  58   2]\n",
      " [  1 994  76]\n",
      " [  0 230 107]]\n",
      "accuracy score is: 0.7503401360544217.\n"
     ]
    }
   ],
   "source": [
    "#Knn classifier\n",
    "from sklearn.neighbors import KNeighborsClassifier\n",
    "\n",
    "#X_train = X_train[ ['alcohol', 'density', 'total sulfur dioxide', 'free sulfur dioxide', 'volatile acidity', 'fixed acidity', 'alcohol_prob', 'pH', 'sulphates', 'citric acid', 'density_prob', 'residual sugar', 'total_sulfur_dioxide_prob', 'free_sulfur_dioxide_prob', 'chlorides_prob', 'residual_sugar_prob', 'citric_acid_prob', 'volatile_acidity_prob', 'fixed_acidity_prob', 'sulphates_prob', 'pH_prob'] ]\n",
    "\n",
    "ks = [2,3,4,5,6,7]\n",
    "\n",
    "for k in ks:\n",
    "    knn = KNeighborsClassifier(n_neighbors=k)\n",
    "    knn.fit(X_train, y_train)\n",
    "    y_pred = knn.predict(X_test)\n",
    "    print(\"For a k value = \" + str(k) + \" : \")\n",
    "    print(confusion_matrix(y_test, y_pred, labels=[1, 2, 3]))\n",
    "    print(\"accuracy score is: \" + str(np.trace(confusion_matrix(y_test, y_pred, labels=[1, 2, 3]))/1470) + \".\")\n",
    "    "
   ]
  },
  {
   "cell_type": "code",
   "execution_count": 6,
   "metadata": {},
   "outputs": [
    {
     "data": {
      "text/plain": [
       "'#knn classification taking features that seem to be strong high quality indicators\\n\\nX_train = X_train[ [\\'alcohol\\', \\'density\\', \\'alcohol_prob\\', \\'density_prob\\', \\'total_sulfur_dioxide_prob\\', \\'free_sulfur_dioxide_prob\\', \\'chlorides_prob\\', \\'residual_sugar_prob\\', \\'citric_acid_prob\\', \\'volatile_acidity_prob\\', \\'fixed_acidity_prob\\', \\'sulphates_prob\\', \\'pH_prob\\'] ]\\n\\nks = [2,3,4,5,6,7]\\n\\nfor k in ks:    \\n    knn = KNeighborsClassifier(n_neighbors=k)\\n    knn.fit(X_train, y_train)\\n    y_pred = knn.predict(X_test)\\n    print(\"For a k value = \" + str(k) + \" : \")\\n    print(confusion_matrix(y_test, y_pred, labels=[3, 4, 5, 6, 7, 8, 9]))\\n    print(\"Sum of the diagonals is: \" + str(np.trace(confusion_matrix(y_test, y_pred, labels=[3, 4, 5, 6, 7, 8, 9]))) + \".\")\\n    '"
      ]
     },
     "execution_count": 6,
     "metadata": {},
     "output_type": "execute_result"
    }
   ],
   "source": [
    "\"\"\"#knn classification taking features that seem to be strong high quality indicators\n",
    "\n",
    "X_train = X_train[ ['alcohol', 'density', 'alcohol_prob', 'density_prob', 'total_sulfur_dioxide_prob', 'free_sulfur_dioxide_prob', 'chlorides_prob', 'residual_sugar_prob', 'citric_acid_prob', 'volatile_acidity_prob', 'fixed_acidity_prob', 'sulphates_prob', 'pH_prob'] ]\n",
    "\n",
    "ks = [2,3,4,5,6,7]\n",
    "\n",
    "for k in ks:    \n",
    "    knn = KNeighborsClassifier(n_neighbors=k)\n",
    "    knn.fit(X_train, y_train)\n",
    "    y_pred = knn.predict(X_test)\n",
    "    print(\"For a k value = \" + str(k) + \" : \")\n",
    "    print(confusion_matrix(y_test, y_pred, labels=[3, 4, 5, 6, 7, 8, 9]))\n",
    "    print(\"Sum of the diagonals is: \" + str(np.trace(confusion_matrix(y_test, y_pred, labels=[3, 4, 5, 6, 7, 8, 9]))) + \".\")\n",
    "    \"\"\""
   ]
  },
  {
   "cell_type": "code",
   "execution_count": 7,
   "metadata": {},
   "outputs": [
    {
     "data": {
      "text/plain": [
       "'\\nX_train = X_train[ [\\'free sulfur dioxide\\', \\'volatile acidity\\', \\'fixed acidity\\'] ]\\n\\nks = [2,3,4,5,6,7]\\n\\nfor k in ks:    \\n    knn = KNeighborsClassifier(n_neighbors=k)\\n    knn.fit(X_train, y_train)\\n    y_pred = knn.predict(X_test)\\n    print(\"For a k value = \" + str(k) + \" : \")\\n    print(confusion_matrix(y_test, y_pred, labels=[3, 4, 5, 6, 7, 8, 9]))\\n    print(\"Sum of the diagonals is: \" + str(np.trace(confusion_matrix(y_test, y_pred, labels=[3, 4, 5, 6, 7, 8, 9]))) + \".\")\\n    '"
      ]
     },
     "execution_count": 7,
     "metadata": {},
     "output_type": "execute_result"
    }
   ],
   "source": [
    "#knn classification taking features that seem to be strong low quality indicators\n",
    "\"\"\"\n",
    "X_train = X_train[ ['free sulfur dioxide', 'volatile acidity', 'fixed acidity'] ]\n",
    "\n",
    "ks = [2,3,4,5,6,7]\n",
    "\n",
    "for k in ks:    \n",
    "    knn = KNeighborsClassifier(n_neighbors=k)\n",
    "    knn.fit(X_train, y_train)\n",
    "    y_pred = knn.predict(X_test)\n",
    "    print(\"For a k value = \" + str(k) + \" : \")\n",
    "    print(confusion_matrix(y_test, y_pred, labels=[3, 4, 5, 6, 7, 8, 9]))\n",
    "    print(\"Sum of the diagonals is: \" + str(np.trace(confusion_matrix(y_test, y_pred, labels=[3, 4, 5, 6, 7, 8, 9]))) + \".\")\n",
    "    \"\"\""
   ]
  },
  {
   "cell_type": "code",
   "execution_count": 8,
   "metadata": {},
   "outputs": [
    {
     "data": {
      "text/plain": [
       "'\\nX_train = X_train[ [\\'chlorides\\', \\'residual sugar\\'] ]\\n\\nks = [2,3,4,5,6,7]\\n\\nfor k in ks:    \\n    knn = KNeighborsClassifier(n_neighbors=k)\\n    knn.fit(X_train, y_train)\\n    y_pred = knn.predict(X_test)\\n    print(\"For a k value = \" + str(k) + \" : \")\\n    print(confusion_matrix(y_test, y_pred, labels=[3, 4, 5, 6, 7, 8, 9]))\\n    print(\"Sum of the diagonals is: \" + str(np.trace(confusion_matrix(y_test, y_pred, labels=[3, 4, 5, 6, 7, 8, 9]))) + \".\")\\n    '"
      ]
     },
     "execution_count": 8,
     "metadata": {},
     "output_type": "execute_result"
    }
   ],
   "source": [
    "#knn classification taking features that seem to be strong all around quality indicators\n",
    "\"\"\"\n",
    "X_train = X_train[ ['chlorides', 'residual sugar'] ]\n",
    "\n",
    "ks = [2,3,4,5,6,7]\n",
    "\n",
    "for k in ks:    \n",
    "    knn = KNeighborsClassifier(n_neighbors=k)\n",
    "    knn.fit(X_train, y_train)\n",
    "    y_pred = knn.predict(X_test)\n",
    "    print(\"For a k value = \" + str(k) + \" : \")\n",
    "    print(confusion_matrix(y_test, y_pred, labels=[3, 4, 5, 6, 7, 8, 9]))\n",
    "    print(\"Sum of the diagonals is: \" + str(np.trace(confusion_matrix(y_test, y_pred, labels=[3, 4, 5, 6, 7, 8, 9]))) + \".\")\n",
    "    \"\"\""
   ]
  },
  {
   "cell_type": "markdown",
   "metadata": {},
   "source": [
    "The best knn classification so far is a 7 neighbor classifier on the 'alcohol' and 'density' features."
   ]
  },
  {
   "cell_type": "code",
   "execution_count": 30,
   "metadata": {},
   "outputs": [
    {
     "name": "stdout",
     "output_type": "stream",
     "text": [
      "[[   2   59    1]\n",
      " [   1 1000   70]\n",
      " [   0  222  115]]\n",
      "accuracy score is: 0.7598639455782313.\n"
     ]
    },
    {
     "name": "stderr",
     "output_type": "stream",
     "text": [
      "C:\\Users\\ramka\\Anaconda3\\lib\\site-packages\\sklearn\\linear_model\\sag.py:334: ConvergenceWarning: The max_iter was reached which means the coef_ did not converge\n",
      "  \"the coef_ did not converge\", ConvergenceWarning)\n"
     ]
    },
    {
     "name": "stdout",
     "output_type": "stream",
     "text": [
      "[[   0   61    1]\n",
      " [   0 1051   20]\n",
      " [   0  318   19]]\n",
      "accuracy score is: 0.7278911564625851.\n"
     ]
    },
    {
     "name": "stderr",
     "output_type": "stream",
     "text": [
      "C:\\Users\\ramka\\Anaconda3\\lib\\site-packages\\sklearn\\linear_model\\sag.py:334: ConvergenceWarning: The max_iter was reached which means the coef_ did not converge\n",
      "  \"the coef_ did not converge\", ConvergenceWarning)\n"
     ]
    },
    {
     "name": "stdout",
     "output_type": "stream",
     "text": [
      "[[   0   61    1]\n",
      " [   0 1060   11]\n",
      " [   0  332    5]]\n",
      "accuracy score is: 0.7244897959183674.\n",
      "[[   0   60    2]\n",
      " [   0 1006   65]\n",
      " [   0  239   98]]\n",
      "accuracy score is: 0.7510204081632653.\n"
     ]
    },
    {
     "name": "stderr",
     "output_type": "stream",
     "text": [
      "C:\\Users\\ramka\\Anaconda3\\lib\\site-packages\\sklearn\\linear_model\\logistic.py:758: ConvergenceWarning: lbfgs failed to converge. Increase the number of iterations.\n",
      "  \"of iterations.\", ConvergenceWarning)\n"
     ]
    }
   ],
   "source": [
    "from sklearn import linear_model\n",
    "\n",
    "#X_train = X_train[ ['alcohol', 'density', 'total sulfur dioxide', 'free sulfur dioxide', 'volatile acidity', 'fixed acidity'] ]\n",
    "\n",
    "solvers = ['newton-cg', 'sag', 'saga', 'lbfgs' ]\n",
    "for solver in solvers:\n",
    "    mulnom_clf = linear_model.LogisticRegression(multi_class='multinomial', solver=solver)\n",
    "    mulnom_clf.fit(X_train, y_train)\n",
    "    y_pred_mulnom = mulnom_clf.predict(X_test)\n",
    "    print(confusion_matrix(y_test, y_pred_mulnom, labels=[1, 2, 3]))\n",
    "    print(\"accuracy score is: \" + str(np.trace(confusion_matrix(y_test, y_pred_mulnom, labels=[1, 2, 3]))/1470) + \".\")\n",
    "    \n"
   ]
  },
  {
   "cell_type": "code",
   "execution_count": 10,
   "metadata": {},
   "outputs": [
    {
     "data": {
      "text/plain": [
       "'from sklearn import linear_model\\n\\n#X_train = X_train[ [\\'alcohol\\', \\'density\\', \\'total sulfur dioxide\\', \\'free sulfur dioxide\\', \\'volatile acidity\\', \\'fixed acidity\\'] ]\\nsolvers = [\\'newton-cg\\', \\'sag\\', \\'saga\\', \\'lbfgs\\' ]\\nfor solver in solvers:\\n    mulnom_clf = linear_model.LogisticRegression(multi_class=\\'multinomial\\', solver=solver)\\n    mulnom_clf.fit(X_train, y_train)\\n    y_pred_mulnom = mulnom_clf.predict(X_test)\\n    print(confusion_matrix(y_test, y_pred_mulnom, labels=[1, 2, 3]))\\n    print(\"Sum of the diagonals is: \" + str(np.trace(confusion_matrix(y_test, y_pred_mulnom, labels=[1, 2, 3]))) + \".\")\\n'"
      ]
     },
     "execution_count": 10,
     "metadata": {},
     "output_type": "execute_result"
    }
   ],
   "source": [
    "\"\"\"from sklearn import linear_model\n",
    "\n",
    "#X_train = X_train[ ['alcohol', 'density', 'total sulfur dioxide', 'free sulfur dioxide', 'volatile acidity', 'fixed acidity'] ]\n",
    "solvers = ['newton-cg', 'sag', 'saga', 'lbfgs' ]\n",
    "for solver in solvers:\n",
    "    mulnom_clf = linear_model.LogisticRegression(multi_class='multinomial', solver=solver)\n",
    "    mulnom_clf.fit(X_train, y_train)\n",
    "    y_pred_mulnom = mulnom_clf.predict(X_test)\n",
    "    print(confusion_matrix(y_test, y_pred_mulnom, labels=[1, 2, 3]))\n",
    "    print(\"Sum of the diagonals is: \" + str(np.trace(confusion_matrix(y_test, y_pred_mulnom, labels=[1, 2, 3]))) + \".\")\n",
    "\"\"\""
   ]
  },
  {
   "cell_type": "code",
   "execution_count": 11,
   "metadata": {},
   "outputs": [
    {
     "data": {
      "text/plain": [
       "'X_train = X_train[ [\\'alcohol\\', \\'density\\', \\'total sulfur dioxide\\', \\'free sulfur dioxide\\', \\'volatile acidity\\', \\'fixed acidity\\'] ]\\n\\nestimatators = [10, 20,  30, 40, 50, 60, 70, 80, 90, 100 ]\\nfor estimator in estimatators:\\n    grad_boost_clf = sklearn.ensemble.GradientBoostingClassifier(n_estimators=estimator)\\n    grad_boost_clf.fit(X_train, y_train)\\n    y_pred_grad_boost = grad_boost_clf.predict(X_test)\\n    print(\"For n_estimators = \" + str(estimator) + \".\")\\n    print(confusion_matrix(y_test, y_pred_grad_boost, labels=[3, 4, 5, 6, 7, 8, 9]))\\n    print(\"Sum of the diagonals is: \" + str(np.trace(confusion_matrix(y_test, y_pred_grad_boost, labels=[3, 4, 5, 6, 7, 8, 9]))) + \".\")\\n    print(\"---------------------------------------------------------------------------------------------------------\")\\n'"
      ]
     },
     "execution_count": 11,
     "metadata": {},
     "output_type": "execute_result"
    }
   ],
   "source": [
    "\"\"\"X_train = X_train[ ['alcohol', 'density', 'total sulfur dioxide', 'free sulfur dioxide', 'volatile acidity', 'fixed acidity'] ]\n",
    "\n",
    "estimatators = [10, 20,  30, 40, 50, 60, 70, 80, 90, 100 ]\n",
    "for estimator in estimatators:\n",
    "    grad_boost_clf = sklearn.ensemble.GradientBoostingClassifier(n_estimators=estimator)\n",
    "    grad_boost_clf.fit(X_train, y_train)\n",
    "    y_pred_grad_boost = grad_boost_clf.predict(X_test)\n",
    "    print(\"For n_estimators = \" + str(estimator) + \".\")\n",
    "    print(confusion_matrix(y_test, y_pred_grad_boost, labels=[3, 4, 5, 6, 7, 8, 9]))\n",
    "    print(\"Sum of the diagonals is: \" + str(np.trace(confusion_matrix(y_test, y_pred_grad_boost, labels=[3, 4, 5, 6, 7, 8, 9]))) + \".\")\n",
    "    print(\"---------------------------------------------------------------------------------------------------------\")\n",
    "\"\"\""
   ]
  },
  {
   "cell_type": "markdown",
   "metadata": {},
   "source": [
    "Random forrest has perfromed the best out of all the classifiers. I will continue to use random forrest and tweak it further."
   ]
  },
  {
   "cell_type": "code",
   "execution_count": 12,
   "metadata": {},
   "outputs": [],
   "source": [
    "from sklearn.ensemble import RandomForestClassifier\n",
    "\n",
    "\n",
    "#X_train = X_train[ ['alcohol', 'density', 'total sulfur dioxide', 'free sulfur dioxide', 'volatile acidity', 'fixed acidity'] ]\n",
    "\n",
    "\n",
    "estimators = list(range(50, 3000, 100))\n",
    "points = {}\n",
    "for estimator in estimators:\n",
    "    ran_fores_clf = RandomForestClassifier(n_estimators=estimator)\n",
    "    ran_fores_clf.fit(X_train, y_train)\n",
    "    y_pred_ran_fores = ran_fores_clf.predict(X_test)\n",
    "    points[estimator] = ( np.trace(confusion_matrix(y_test, y_pred_ran_fores, labels=[1, 2, 3])) )\n",
    "    "
   ]
  },
  {
   "cell_type": "markdown",
   "metadata": {},
   "source": [
    "It seems the more features I have the better the classifier."
   ]
  },
  {
   "cell_type": "code",
   "execution_count": 13,
   "metadata": {},
   "outputs": [
    {
     "data": {
      "image/png": "[encoded data removed]",
      "text/plain": [
       "<Figure size 432x288 with 1 Axes>"
      ]
     },
     "metadata": {
      "needs_background": "light"
     },
     "output_type": "display_data"
    }
   ],
   "source": [
    "plt.figure()\n",
    "plt.scatter(points.keys(), points.values())\n",
    "plt.show()"
   ]
  },
  {
   "cell_type": "code",
   "execution_count": 14,
   "metadata": {},
   "outputs": [
    {
     "data": {
      "text/plain": [
       "\"from sklearn.ensemble import RandomForestClassifier\\n\\n#X_train = X_train[ ['alcohol', 'density'] ]\\n\\nestimators = list(range(50, 3000, 100))\\npoints_high_indicators = {}\\nfor estimator in estimators:\\n    ran_fores_clf = RandomForestClassifier(n_estimators=estimator)\\n    ran_fores_clf.fit(X_train, y_train)\\n    y_pred_ran_fores = ran_fores_clf.predict(X_test)\\n    points_high_indicators[estimator] = ( np.trace(confusion_matrix(y_test, y_pred_ran_fores, labels=[3, 4, 5, 6, 7, 8, 9])))/980\\n    \""
      ]
     },
     "execution_count": 14,
     "metadata": {},
     "output_type": "execute_result"
    }
   ],
   "source": [
    "\"\"\"from sklearn.ensemble import RandomForestClassifier\n",
    "\n",
    "#X_train = X_train[ ['alcohol', 'density'] ]\n",
    "\n",
    "estimators = list(range(50, 3000, 100))\n",
    "points_high_indicators = {}\n",
    "for estimator in estimators:\n",
    "    ran_fores_clf = RandomForestClassifier(n_estimators=estimator)\n",
    "    ran_fores_clf.fit(X_train, y_train)\n",
    "    y_pred_ran_fores = ran_fores_clf.predict(X_test)\n",
    "    points_high_indicators[estimator] = ( np.trace(confusion_matrix(y_test, y_pred_ran_fores, labels=[3, 4, 5, 6, 7, 8, 9])))/980\n",
    "    \"\"\""
   ]
  },
  {
   "cell_type": "code",
   "execution_count": 15,
   "metadata": {},
   "outputs": [
    {
     "data": {
      "text/plain": [
       "'plt.figure()\\nplt.scatter(points_high_indicators.keys(), points_high_indicators.values())\\nplt.show()'"
      ]
     },
     "execution_count": 15,
     "metadata": {},
     "output_type": "execute_result"
    }
   ],
   "source": [
    "\"\"\"plt.figure()\n",
    "plt.scatter(points_high_indicators.keys(), points_high_indicators.values())\n",
    "plt.show()\"\"\""
   ]
  },
  {
   "cell_type": "code",
   "execution_count": 16,
   "metadata": {},
   "outputs": [
    {
     "data": {
      "text/plain": [
       "\"from sklearn.ensemble import RandomForestClassifier\\n\\nX_train = X_train[ ['free sulfur dioxide', 'volatile acidity', 'fixed acidity'] ]\\n\\nestimators = list(range(50, 3000, 100))\\npoints_low_indicators = {}\\nfor estimator in estimators:\\n    ran_fores_clf = RandomForestClassifier(n_estimators=estimator)\\n    ran_fores_clf.fit(X_train, y_train)\\n    y_pred_ran_fores = ran_fores_clf.predict(X_test)\\n    points_low_indicators[estimator] = ( np.trace(confusion_matrix(y_test, y_pred_ran_fores, labels=[3, 4, 5, 6, 7, 8, 9])) )/980\\n    \""
      ]
     },
     "execution_count": 16,
     "metadata": {},
     "output_type": "execute_result"
    }
   ],
   "source": [
    "\"\"\"from sklearn.ensemble import RandomForestClassifier\n",
    "\n",
    "X_train = X_train[ ['free sulfur dioxide', 'volatile acidity', 'fixed acidity'] ]\n",
    "\n",
    "estimators = list(range(50, 3000, 100))\n",
    "points_low_indicators = {}\n",
    "for estimator in estimators:\n",
    "    ran_fores_clf = RandomForestClassifier(n_estimators=estimator)\n",
    "    ran_fores_clf.fit(X_train, y_train)\n",
    "    y_pred_ran_fores = ran_fores_clf.predict(X_test)\n",
    "    points_low_indicators[estimator] = ( np.trace(confusion_matrix(y_test, y_pred_ran_fores, labels=[3, 4, 5, 6, 7, 8, 9])) )/980\n",
    "    \"\"\""
   ]
  },
  {
   "cell_type": "code",
   "execution_count": 17,
   "metadata": {},
   "outputs": [
    {
     "data": {
      "text/plain": [
       "'plt.figure()\\nplt.scatter(points_low_indicators.keys(), points_low_indicators.values())\\nplt.show()'"
      ]
     },
     "execution_count": 17,
     "metadata": {},
     "output_type": "execute_result"
    }
   ],
   "source": [
    "\"\"\"plt.figure()\n",
    "plt.scatter(points_low_indicators.keys(), points_low_indicators.values())\n",
    "plt.show()\"\"\""
   ]
  },
  {
   "cell_type": "code",
   "execution_count": 18,
   "metadata": {},
   "outputs": [
    {
     "data": {
      "text/plain": [
       "\"from sklearn.ensemble import RandomForestClassifier\\n\\nX_train = X_train[ ['chlorides', 'residual sugar'] ]\\n\\nestimators = list(range(50, 3000, 100))\\npoints_three_indicators = {}\\nfor estimator in estimators:\\n    ran_fores_clf = RandomForestClassifier(n_estimators=estimator)\\n    ran_fores_clf.fit(X_train, y_train)\\n    y_pred_ran_fores = ran_fores_clf.predict(X_test)\\n    points_three_indicators[estimator] = ( np.trace(confusion_matrix(y_test, y_pred_ran_fores, labels=[3, 4, 5, 6, 7, 8, 9])) )/980\\n    \""
      ]
     },
     "execution_count": 18,
     "metadata": {},
     "output_type": "execute_result"
    }
   ],
   "source": [
    "\"\"\"from sklearn.ensemble import RandomForestClassifier\n",
    "\n",
    "X_train = X_train[ ['chlorides', 'residual sugar'] ]\n",
    "\n",
    "estimators = list(range(50, 3000, 100))\n",
    "points_three_indicators = {}\n",
    "for estimator in estimators:\n",
    "    ran_fores_clf = RandomForestClassifier(n_estimators=estimator)\n",
    "    ran_fores_clf.fit(X_train, y_train)\n",
    "    y_pred_ran_fores = ran_fores_clf.predict(X_test)\n",
    "    points_three_indicators[estimator] = ( np.trace(confusion_matrix(y_test, y_pred_ran_fores, labels=[3, 4, 5, 6, 7, 8, 9])) )/980\n",
    "    \"\"\""
   ]
  },
  {
   "cell_type": "code",
   "execution_count": 19,
   "metadata": {},
   "outputs": [
    {
     "data": {
      "text/plain": [
       "'plt.figure()\\nplt.scatter(points_three_indicators.keys(), points_three_indicators.values())\\nplt.show()'"
      ]
     },
     "execution_count": 19,
     "metadata": {},
     "output_type": "execute_result"
    }
   ],
   "source": [
    "\"\"\"plt.figure()\n",
    "plt.scatter(points_three_indicators.keys(), points_three_indicators.values())\n",
    "plt.show()\"\"\""
   ]
  },
  {
   "cell_type": "code",
   "execution_count": 20,
   "metadata": {},
   "outputs": [
    {
     "data": {
      "text/plain": [
       "\"from sklearn.ensemble import RandomForestClassifier\\n\\nX_train = X_train[ ['alcohol', 'density', 'total sulfur dioxide', 'free sulfur dioxide', 'volatile acidity', 'fixed acidity', 'chlorides', 'residual sugar'] ]\\n\\nestimators = list(range(50, 3000, 100))\\npoints_all = {}\\nfor estimator in estimators:\\n    ran_fores_clf = RandomForestClassifier(n_estimators=estimator)\\n    ran_fores_clf.fit(X_train, y_train)\\n    y_pred_ran_fores = ran_fores_clf.predict(X_test)\\n    points_all[estimator] = ( np.trace(confusion_matrix(y_test, y_pred_ran_fores, labels=[3, 4, 5, 6, 7, 8, 9])) )/980\\n    \""
      ]
     },
     "execution_count": 20,
     "metadata": {},
     "output_type": "execute_result"
    }
   ],
   "source": [
    "\"\"\"from sklearn.ensemble import RandomForestClassifier\n",
    "\n",
    "X_train = X_train[ ['alcohol', 'density', 'total sulfur dioxide', 'free sulfur dioxide', 'volatile acidity', 'fixed acidity', 'chlorides', 'residual sugar'] ]\n",
    "\n",
    "estimators = list(range(50, 3000, 100))\n",
    "points_all = {}\n",
    "for estimator in estimators:\n",
    "    ran_fores_clf = RandomForestClassifier(n_estimators=estimator)\n",
    "    ran_fores_clf.fit(X_train, y_train)\n",
    "    y_pred_ran_fores = ran_fores_clf.predict(X_test)\n",
    "    points_all[estimator] = ( np.trace(confusion_matrix(y_test, y_pred_ran_fores, labels=[3, 4, 5, 6, 7, 8, 9])) )/980\n",
    "    \"\"\""
   ]
  },
  {
   "cell_type": "code",
   "execution_count": 21,
   "metadata": {
    "scrolled": true
   },
   "outputs": [
    {
     "data": {
      "text/plain": [
       "'plt.figure()\\nplt.scatter(points_all.keys(), points_all.values())\\nplt.show()'"
      ]
     },
     "execution_count": 21,
     "metadata": {},
     "output_type": "execute_result"
    }
   ],
   "source": [
    "\"\"\"plt.figure()\n",
    "plt.scatter(points_all.keys(), points_all.values())\n",
    "plt.show()\"\"\""
   ]
  },
  {
   "cell_type": "markdown",
   "metadata": {},
   "source": [
    "1150 estimators seems to be the optimal estimator amount."
   ]
  },
  {
   "cell_type": "code",
   "execution_count": 31,
   "metadata": {},
   "outputs": [
    {
     "name": "stdout",
     "output_type": "stream",
     "text": [
      "For max_feature parameter 'sqrt' we have score 0.8340136054421768.\n",
      "For max_feature parameter 'log2' we have score 0.8340136054421768.\n",
      "For max_feature parameter 'auto' we have score 0.8353741496598639.\n"
     ]
    }
   ],
   "source": [
    "#max_feature parameter tuning\n",
    "from sklearn.ensemble import RandomForestClassifier\n",
    "\n",
    "#X_train = X_train[ ['alcohol', 'density', 'total sulfur dioxide', 'free sulfur dioxide', 'volatile acidity', 'fixed acidity', 'chlorides', 'residual sugar'] ]\n",
    "\n",
    "parameters = ['sqrt', 'log2', 'auto']\n",
    "for param in parameters:\n",
    "    ran_fores_clf = RandomForestClassifier(n_estimators=1150, max_features=param)\n",
    "    ran_fores_clf.fit(X_train, y_train)\n",
    "    y_pred_ran_fores = ran_fores_clf.predict(X_test)\n",
    "    print( \"For max_feature parameter '\" + str(param) + \"' we have score \" + str(np.trace(confusion_matrix(y_test, y_pred_ran_fores, labels=[1, 2, 3]))/1470) + \".\" )\n",
    "    \n",
    "    "
   ]
  },
  {
   "cell_type": "markdown",
   "metadata": {},
   "source": [
    "The best max_feature parameter is 'auto'."
   ]
  },
  {
   "cell_type": "code",
   "execution_count": 32,
   "metadata": {},
   "outputs": [
    {
     "name": "stdout",
     "output_type": "stream",
     "text": [
      "For criterion parameter 'gini' we have score 0.8326530612244898.\n",
      "For criterion parameter 'entropy' we have score 0.8353741496598639.\n"
     ]
    }
   ],
   "source": [
    "#criterion parameter tuning\n",
    "from sklearn.ensemble import RandomForestClassifier\n",
    "\n",
    "#X_train = X_train[ ['alcohol', 'density', 'total sulfur dioxide', 'free sulfur dioxide', 'volatile acidity', 'fixed acidity', 'chlorides', 'residual sugar'] ]\n",
    "\n",
    "parameters = ['gini', 'entropy']\n",
    "for param in parameters:\n",
    "    ran_fores_clf = RandomForestClassifier(n_estimators=1150, max_features='auto', criterion=param )\n",
    "    ran_fores_clf.fit(X_train, y_train)\n",
    "    y_pred_ran_fores = ran_fores_clf.predict(X_test)\n",
    "    print( \"For criterion parameter '\" + str(param) + \"' we have score \" + str(np.trace(confusion_matrix(y_test, y_pred_ran_fores, labels=[1, 2, 3]))/1470) + \".\" )\n"
   ]
  },
  {
   "cell_type": "markdown",
   "metadata": {},
   "source": [
    "The best criterion parameter is 'entropy'."
   ]
  },
  {
   "cell_type": "code",
   "execution_count": 33,
   "metadata": {},
   "outputs": [
    {
     "name": "stdout",
     "output_type": "stream",
     "text": [
      "For bootstrap parameter 'True' we have score 0.8360544217687075.\n",
      "For bootstrap parameter 'False' we have score 0.8414965986394558.\n"
     ]
    }
   ],
   "source": [
    "#bootstrap  parameter tuning\n",
    "\n",
    "from sklearn.ensemble import RandomForestClassifier\n",
    "\n",
    "#X_train = X_train[ ['alcohol', 'density', 'total sulfur dioxide', 'free sulfur dioxide', 'volatile acidity', 'fixed acidity', 'chlorides', 'residual sugar'] ]\n",
    "\n",
    "parameters = [True, False]\n",
    "for param in parameters:\n",
    "    ran_fores_clf = RandomForestClassifier(n_estimators=1150, max_features='auto', criterion='entropy', bootstrap=param )\n",
    "    ran_fores_clf.fit(X_train, y_train)\n",
    "    y_pred_ran_fores = ran_fores_clf.predict(X_test)\n",
    "    print( \"For bootstrap parameter '\" + str(param) + \"' we have score \" + str(np.trace(confusion_matrix(y_test, y_pred_ran_fores, labels=[1, 2, 3]))/1470) + \".\" )\n"
   ]
  },
  {
   "cell_type": "markdown",
   "metadata": {},
   "source": [
    "The best bootstrap parameter is 'False'."
   ]
  },
  {
   "cell_type": "code",
   "execution_count": 40,
   "metadata": {},
   "outputs": [
    {
     "name": "stdout",
     "output_type": "stream",
     "text": [
      "My best classifier yeilds an accuracy of 0.8428571428571429.\n"
     ]
    }
   ],
   "source": [
    "from sklearn.ensemble import RandomForestClassifier\n",
    "\n",
    "#X_train = X_train[ ['alcohol', 'density', 'total sulfur dioxide', 'free sulfur dioxide', 'volatile acidity', 'fixed acidity', 'chlorides', 'residual sugar'] ]\n",
    "\n",
    "ran_fores_clf = RandomForestClassifier(n_estimators=1450, max_features='auto', criterion='entropy', bootstrap=False )\n",
    "ran_fores_clf.fit(X_train, y_train)\n",
    "y_pred_ran_fores = ran_fores_clf.predict(X_test)\n",
    "print( \"My best classifier yeilds an accuracy of \" + str(np.trace(confusion_matrix(y_test, y_pred_ran_fores, labels=[1, 2, 3]))/1470) + \".\" )\n"
   ]
  },
  {
   "cell_type": "code",
   "execution_count": 36,
   "metadata": {},
   "outputs": [],
   "source": [
    "from sklearn.ensemble import RandomForestClassifier\n",
    "\n",
    "estimators = list(range(50, 3000, 100))\n",
    "points = {}\n",
    "for estimator in estimators:\n",
    "    ran_fores_clf = RandomForestClassifier(n_estimators=estimator, max_features='auto', criterion='entropy', bootstrap=False )\n",
    "    ran_fores_clf.fit(X_train, y_train)\n",
    "    y_pred_ran_fores = ran_fores_clf.predict(X_test)\n",
    "    points[estimator] = ( np.trace(confusion_matrix(y_test, y_pred_ran_fores, labels=[1, 2, 3])) )"
   ]
  },
  {
   "cell_type": "code",
   "execution_count": 37,
   "metadata": {
    "scrolled": true
   },
   "outputs": [
    {
     "data": {
      "image/png": "[encoded data removed]",
      "text/plain": [
       "<Figure size 432x288 with 1 Axes>"
      ]
     },
     "metadata": {
      "needs_background": "light"
     },
     "output_type": "display_data"
    }
   ],
   "source": [
    "plt.figure()\n",
    "plt.scatter(points.keys(), points.values())\n",
    "plt.show()"
   ]
  },
  {
   "cell_type": "code",
   "execution_count": 39,
   "metadata": {},
   "outputs": [
    {
     "data": {
      "text/plain": [
       "1241"
      ]
     },
     "execution_count": 39,
     "metadata": {},
     "output_type": "execute_result"
    }
   ],
   "source": [
    "points[1450]"
   ]
  },
  {
   "cell_type": "code",
   "execution_count": 47,
   "metadata": {},
   "outputs": [
    {
     "name": "stdout",
     "output_type": "stream",
     "text": [
      "accuracy 0.7591836734693878.\n"
     ]
    }
   ],
   "source": [
    "from sklearn.ensemble import RandomForestClassifier\n",
    "\n",
    "X_train_high = X_train[ ['alcohol', 'alcohol_prob_high', 'density', 'density_prob_high', 'density_prob_mid', 'density_prob_low', 'alcohol_prob_mid', 'alcohol_prob_low' ] ]\n",
    "X_test_high = X_test[ ['alcohol', 'alcohol_prob_high', 'density', 'density_prob_high', 'density_prob_mid', 'density_prob_low', 'alcohol_prob_mid', 'alcohol_prob_low' ] ]\n",
    "\n",
    "ran_fores_clf = RandomForestClassifier(n_estimators=1450, max_features='auto', criterion='entropy', bootstrap=False )\n",
    "ran_fores_clf.fit(X_train_high, y_train)\n",
    "y_pred_ran_fores = ran_fores_clf.predict(X_test_high)\n",
    "print( \"accuracy \" + str(np.trace(confusion_matrix(y_test, y_pred_ran_fores, labels=[1, 2, 3]))/1470) + \".\" )\n"
   ]
  },
  {
   "cell_type": "code",
   "execution_count": 48,
   "metadata": {},
   "outputs": [
    {
     "name": "stdout",
     "output_type": "stream",
     "text": [
      "accuracy 0.7285714285714285.\n"
     ]
    }
   ],
   "source": [
    " from sklearn.ensemble import RandomForestClassifier\n",
    "\n",
    "X_train_low = X_train[ ['chlorides', 'chlorides_prob_low', 'chlorides_prob_mid', 'chlorides_prob_high', 'residual sugar', 'residual_sugar_prob_low', 'residual_sugar_prob_mid', 'residual_sugar_prob_high'] ]\n",
    "X_test_low = X_test[ ['chlorides', 'chlorides_prob_low', 'chlorides_prob_mid', 'chlorides_prob_high', 'residual sugar', 'residual_sugar_prob_low', 'residual_sugar_prob_mid', 'residual_sugar_prob_high'] ]\n",
    "\n",
    "ran_fores_clf = RandomForestClassifier(n_estimators=1450, max_features='auto', criterion='entropy', bootstrap=False )\n",
    "ran_fores_clf.fit(X_train_low, y_train)\n",
    "y_pred_ran_fores = ran_fores_clf.predict(X_test_low)\n",
    "print( \"accuracy \" + str(np.trace(confusion_matrix(y_test, y_pred_ran_fores, labels=[1, 2, 3]))/1470) + \".\" )\n"
   ]
  },
  {
   "cell_type": "code",
   "execution_count": 49,
   "metadata": {},
   "outputs": [
    {
     "name": "stdout",
     "output_type": "stream",
     "text": [
      "accuracy 0.7646258503401361.\n"
     ]
    }
   ],
   "source": [
    " from sklearn.ensemble import RandomForestClassifier\n",
    "\n",
    "X_train_lo = X_train[ ['volatile acidity', 'volatile_acidity_prob_low', 'volatile_acidity_prob_mid', 'volatile_acidity_prob_high', 'fixed acidity', 'fixed_acidity_prob_low', 'fixed_acidity_prob_mid', 'fixed_acidity_prob_high', 'free sulfur dioxide', 'free_sulfur_dioxide_prob_low', 'free_sulfur_dioxide_prob_mid', 'free_sulfur_dioxide_prob_high'] ]\n",
    "X_test_lo = X_test[ ['volatile acidity', 'volatile_acidity_prob_low', 'volatile_acidity_prob_mid', 'volatile_acidity_prob_high', 'fixed acidity', 'fixed_acidity_prob_low', 'fixed_acidity_prob_mid', 'fixed_acidity_prob_high', 'free sulfur dioxide', 'free_sulfur_dioxide_prob_low', 'free_sulfur_dioxide_prob_mid', 'free_sulfur_dioxide_prob_high'] ]\n",
    "\n",
    "ran_fores_clf = RandomForestClassifier(n_estimators=1450, max_features='auto', criterion='entropy', bootstrap=False )\n",
    "ran_fores_clf.fit(X_train_lo, y_train)\n",
    "y_pred_ran_fores = ran_fores_clf.predict(X_test_lo)\n",
    "print( \"accuracy \" + str(np.trace(confusion_matrix(y_test, y_pred_ran_fores, labels=[1, 2, 3]))/1470) + \".\" )\n"
   ]
  },
  {
   "cell_type": "code",
   "execution_count": null,
   "metadata": {},
   "outputs": [],
   "source": []
  }
 ],
 "metadata": {
  "kernelspec": {
   "display_name": "Python 3",
   "language": "python",
   "name": "python3"
  },
  "language_info": {
   "codemirror_mode": {
    "name": "ipython",
    "version": 3
   },
   "file_extension": ".py",
   "mimetype": "text/x-python",
   "name": "python",
   "nbconvert_exporter": "python",
   "pygments_lexer": "ipython3",
   "version": "3.7.1"
  }
 },
 "nbformat": 4,
 "nbformat_minor": 2
}
