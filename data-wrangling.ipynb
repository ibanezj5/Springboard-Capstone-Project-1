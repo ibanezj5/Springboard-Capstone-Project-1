{
 "cells": [
  {
   "cell_type": "code",
   "execution_count": 1,
   "metadata": {},
   "outputs": [],
   "source": [
    "import pandas as pd\n",
    "red_wine = pd.read_csv('https://query.data.world/s/rrj4d2f6sj2apz4x7sozpd6epmrsiy')\n",
    "white_wine = pd.read_csv('https://query.data.world/s/brho7trfnuy4iz2nxraqzsfwvgek5b')"
   ]
  },
  {
   "cell_type": "code",
   "execution_count": 2,
   "metadata": {},
   "outputs": [],
   "source": [
    "#                                            Total rows = 1599\n",
    "#red_wine['fixed acidity'].count()           #1599\n",
    "#red_wine['volatile acidity'].count()        #1599\n",
    "#red_wine['citric acid'].count()             #1599\n",
    "#red_wine['residual sugar'].count()          #1599\n",
    "#red_wine['chlorides'].count()               #1599\n",
    "#red_wine['free sulfur dioxide'].count()     #1599\n",
    "#red_wine['total sulfur dioxide'].count()    #1599\n",
    "#red_wine['density'].count()                 #1599\n",
    "#red_wine['pH'].count()                      #1599\n",
    "#red_wine['sulphates'].count()               #1599\n",
    "#red_wine['alcohol'].count()                 #1599\n",
    "#red_wine['quality'].count()                 #1599\n",
    "#                                            Conclusion: No null or NA values in any column."
   ]
  },
  {
   "cell_type": "code",
   "execution_count": 3,
   "metadata": {},
   "outputs": [],
   "source": [
    "#                                              Total rows = 4898\n",
    "#white_wine['fixed acidity'].count()           #4898\n",
    "#white_wine['volatile acidity'].count()        #4898\n",
    "#white_wine['citric acid'].count()             #4898\n",
    "#white_wine['residual sugar'].count()          #4898\n",
    "#white_wine['chlorides'].count()               #4898\n",
    "#white_wine['free sulfur dioxide'].count()     #4898\n",
    "#white_wine['total sulfur dioxide'].count()    #4898\n",
    "#white_wine['density'].count()                 #4898\n",
    "#white_wine['pH'].count()                      #4898\n",
    "#white_wine['sulphates'].count()               #4898\n",
    "#white_wine['alcohol'].count()                 #4898\n",
    "#white_wine['quality'].count()                 #4898\n",
    "#                                              Conclusion: No null or NA values in any column."
   ]
  },
  {
   "cell_type": "code",
   "execution_count": 4,
   "metadata": {},
   "outputs": [],
   "source": [
    "#                                               Checking datatypes\n",
    "#type(white_wine['fixed acidity'][0])           #<class 'numpy.float64'>\n",
    "#type(white_wine['volatile acidity'][0])        #<class 'numpy.float64'>\n",
    "#type(white_wine['citric acid'][0])             #<class 'numpy.float64'>\n",
    "#type(white_wine['residual sugar'][0])          #<class 'numpy.float64'>\n",
    "#type(white_wine['chlorides'][0])               #<class 'numpy.float64'>\n",
    "#type(white_wine['free sulfur dioxide'][0])     #<class 'numpy.float64'>\n",
    "#type(white_wine['total sulfur dioxide'][0])    #<class 'numpy.float64'>\n",
    "#type(white_wine['density'][0])                 #<class 'numpy.float64'>\n",
    "#type(white_wine['pH'][0])                      #<class 'numpy.float64'>\n",
    "#type(white_wine['sulphates'][0])               #<class 'numpy.float64'>\n",
    "#type(white_wine['alcohol'][0])                 #<class 'numpy.float64'>\n",
    "#type(white_wine['quality'][0])                 #<class 'numpy.int64'>\n",
    "#                                               All datatypes are in expected format.              "
   ]
  },
  {
   "cell_type": "code",
   "execution_count": 5,
   "metadata": {},
   "outputs": [],
   "source": [
    "#                                             Checking datatypes\n",
    "#type(red_wine['fixed acidity'][0])           #<class 'numpy.float64'>\n",
    "#type(red_wine['volatile acidity'][0])        #<class 'numpy.float64'>\n",
    "#type(red_wine['citric acid'][0])             #<class 'numpy.float64'>\n",
    "#type(red_wine['residual sugar'][0])          #<class 'numpy.float64'>\n",
    "#type(red_wine['chlorides'][0])               #<class 'numpy.float64'>\n",
    "#type(red_wine['free sulfur dioxide'][0])     #<class 'numpy.float64'>\n",
    "#type(red_wine['total sulfur dioxide'][0])    #<class 'numpy.float64'>\n",
    "#type(red_wine['density'][0])                 #<class 'numpy.float64'>\n",
    "#type(red_wine['pH'][0])                      #<class 'numpy.float64'>\n",
    "#type(red_wine['sulphates'][0])               #<class 'numpy.float64'>\n",
    "#type(red_wine['alcohol'][0])                 #<class 'numpy.float64'>\n",
    "#type(red_wine['quality'][0])                 #<class 'numpy.int64'>\n",
    "#                                             All datatypes are in expected format.    "
   ]
  },
  {
   "cell_type": "code",
   "execution_count": 6,
   "metadata": {},
   "outputs": [],
   "source": [
    "#No data wrangling needed!!!!!"
   ]
  }
 ],
 "metadata": {
  "kernelspec": {
   "display_name": "Python 3",
   "language": "python",
   "name": "python3"
  },
  "language_info": {
   "codemirror_mode": {
    "name": "ipython",
    "version": 3
   },
   "file_extension": ".py",
   "mimetype": "text/x-python",
   "name": "python",
   "nbconvert_exporter": "python",
   "pygments_lexer": "ipython3",
   "version": "3.7.1"
  }
 },
 "nbformat": 4,
 "nbformat_minor": 2
}
